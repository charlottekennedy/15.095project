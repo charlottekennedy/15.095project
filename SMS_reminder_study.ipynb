{
 "cells": [
  {
   "cell_type": "code",
   "execution_count": 1,
   "id": "b63773d4",
   "metadata": {},
   "outputs": [],
   "source": [
    "import pandas as pd\n",
    "import numpy as np\n",
    "import random\n",
    "from sklearn import preprocessing\n",
    "import matplotlib.pyplot as plt\n",
    "from datetime import date\n",
    "from sklearn.linear_model import LogisticRegression\n",
    "from sklearn.model_selection import train_test_split\n",
    "from sklearn.ensemble import GradientBoostingClassifier"
   ]
  },
  {
   "cell_type": "code",
   "execution_count": 16,
   "id": "de97611e",
   "metadata": {},
   "outputs": [],
   "source": [
    "df = pd.read_csv(\"data/data_train.csv\").iloc[:, :29]"
   ]
  },
  {
   "cell_type": "code",
   "execution_count": 17,
   "id": "302522c1",
   "metadata": {},
   "outputs": [
    {
     "data": {
      "text/plain": [
       "Index(['PatientId', 'AppointmentID', 'Gender', 'ScheduledTime',\n",
       "       'AppointmentTime', 'Age', 'Neighbourhood', 'Scholarship',\n",
       "       'Hipertension', 'Diabetes', 'Alcoholism', 'Handcap', 'SMS_received',\n",
       "       'NoShow', 'AwaitingTime', 'NbPrevious', 'NbPrevious_NoShow',\n",
       "       'ProportionNoShow', 'ScheduledHour', 'ScheduledDay', 'ScheduledMonth',\n",
       "       'ScheduledYear', 'ScheduledWeekDay', 'AppointmentHour',\n",
       "       'AppointmentDay', 'AppointmentMonth', 'AppointmentYear',\n",
       "       'AppointmentWeekDay', 'AppointmentHourRandom'],\n",
       "      dtype='object')"
      ]
     },
     "execution_count": 17,
     "metadata": {},
     "output_type": "execute_result"
    }
   ],
   "source": [
    "df.columns"
   ]
  },
  {
   "cell_type": "code",
   "execution_count": 24,
   "id": "8f40d543",
   "metadata": {},
   "outputs": [
    {
     "name": "stdout",
     "output_type": "stream",
     "text": [
      "0.2879417346258399\n",
      "17.928758270503156\n",
      "0.18226795253289355\n",
      "6.808500340587244\n"
     ]
    }
   ],
   "source": [
    "sms = df[df.SMS_received == 1]\n",
    "print(sum(sms.NoShow)/len(sms))\n",
    "print(np.mean(sms.AwaitingTime))\n",
    "sms = df[df.SMS_received == 0]\n",
    "print(sum(sms.NoShow)/len(sms))\n",
    "print(np.mean(sms.AwaitingTime))"
   ]
  },
  {
   "cell_type": "code",
   "execution_count": null,
   "id": "582f937c",
   "metadata": {},
   "outputs": [],
   "source": []
  }
 ],
 "metadata": {
  "kernelspec": {
   "display_name": "Python 3",
   "language": "python",
   "name": "python3"
  },
  "language_info": {
   "codemirror_mode": {
    "name": "ipython",
    "version": 3
   },
   "file_extension": ".py",
   "mimetype": "text/x-python",
   "name": "python",
   "nbconvert_exporter": "python",
   "pygments_lexer": "ipython3",
   "version": "3.9.5"
  }
 },
 "nbformat": 4,
 "nbformat_minor": 5
}
