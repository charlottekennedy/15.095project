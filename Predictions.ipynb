{
 "cells": [
  {
   "cell_type": "code",
   "execution_count": 4,
   "id": "81eb7ca2",
   "metadata": {},
   "outputs": [],
   "source": [
    "import pandas as pd\n",
    "import numpy as np\n",
    "import random\n",
    "from sklearn import preprocessing\n",
    "import matplotlib.pyplot as plt\n",
    "from datetime import date\n",
    "from sklearn.linear_model import LogisticRegression\n",
    "from sklearn.model_selection import train_test_split"
   ]
  },
  {
   "cell_type": "code",
   "execution_count": 142,
   "id": "26ae7e78",
   "metadata": {},
   "outputs": [],
   "source": [
    "df = pd.read_csv(\"data/data_pred.csv\", usecols = ['PatientId', 'AppointmentID', 'Gender', 'Age', 'Neighbourhood', 'Scholarship',\n",
    "       'Hipertension', 'Diabetes', 'Alcoholism', 'Handcap', 'SMS_received', 'NoShow', 'AwaitingTime', 'NbPrevious', \n",
    "        'NbPrevious_NoShow', 'ProportionNoShow', 'ScheduledHour', 'ScheduledDay', 'ScheduledMonth',\n",
    "       'ScheduledYear', 'ScheduledWeekDay', 'AppointmentDay', 'AppointmentMonth', 'AppointmentYear',\n",
    "       'AppointmentWeekDay'])\n",
    "df_new_opti = pd.read_csv(\"data/opti_Maria.csv\", usecols = ['PatientId', 'AppointmentID', 'Gender', 'Age', 'Neighbourhood', 'Scholarship',\n",
    "       'Hipertension', 'Diabetes', 'Alcoholism', 'Handcap', 'SMS_received', 'NoShow', 'AwaitingTime', 'NbPrevious', \n",
    "        'NbPrevious_NoShow', 'ProportionNoShow', 'ScheduledHour', 'ScheduledDay', 'ScheduledMonth',\n",
    "       'ScheduledYear', 'ScheduledWeekDay', 'AppointmentDay', 'AppointmentMonth', 'AppointmentYear',\n",
    "       'AppointmentWeekDay'])\n",
    "df_new_prev = pd.read_csv(\"data/pred_Maria.csv\", usecols = ['PatientId', 'AppointmentID', 'Gender', 'Age', 'Neighbourhood', 'Scholarship',\n",
    "       'Hipertension', 'Diabetes', 'Alcoholism', 'Handcap', 'SMS_received', 'NoShow', 'AwaitingTime', 'NbPrevious', \n",
    "        'NbPrevious_NoShow', 'ProportionNoShow', 'ScheduledHour', 'ScheduledDay', 'ScheduledMonth',\n",
    "       'ScheduledYear', 'ScheduledWeekDay', 'AppointmentDay', 'AppointmentMonth', 'AppointmentYear',\n",
    "       'AppointmentWeekDay'])\n",
    "\n",
    "n1 = len(df)\n",
    "n2 = len(df_new_prev)\n",
    "n3 = len(df_new_opti)\n",
    "df_c = pd.concat([df, df_new_prev, df_new_opti], axis = 0)\n",
    "df_c.Gender = pd.get_dummies(df_c.Gender, columns = ['Gender'], drop_first = True)\n",
    "df_c = pd.merge(df_c, pd.get_dummies(df.Neighbourhood, columns = ['Neighbourhood'], drop_first = True), left_index=True, right_index=True)\n",
    "df_c = df_c.drop(columns=['Neighbourhood'])"
   ]
  },
  {
   "cell_type": "code",
   "execution_count": 143,
   "id": "8d86b529",
   "metadata": {},
   "outputs": [],
   "source": [
    "df_new = df_c.iloc[n1:,:]\n",
    "df = df_c.iloc[:n1,:]"
   ]
  },
  {
   "cell_type": "code",
   "execution_count": 144,
   "id": "30076b31",
   "metadata": {},
   "outputs": [],
   "source": [
    "X = df.loc[:, df.columns != 'NoShow']\n",
    "y = df.NoShow"
   ]
  },
  {
   "cell_type": "code",
   "execution_count": 133,
   "id": "cbc4a9b9",
   "metadata": {},
   "outputs": [],
   "source": [
    "X_train, X_test, y_train, y_test = train_test_split(X, y, test_size=0.3, random_state=0, stratify = df['NoShow'])"
   ]
  },
  {
   "cell_type": "code",
   "execution_count": 134,
   "id": "3db1322e",
   "metadata": {},
   "outputs": [
    {
     "data": {
      "text/plain": [
       "LogisticRegression()"
      ]
     },
     "execution_count": 134,
     "metadata": {},
     "output_type": "execute_result"
    }
   ],
   "source": [
    "from sklearn.linear_model import LogisticRegression\n",
    "from sklearn import metrics\n",
    "model = LogisticRegression()\n",
    "\n",
    "# Fit the model to our data\n",
    "model.fit(X, y)"
   ]
  },
  {
   "cell_type": "code",
   "execution_count": 135,
   "id": "83ca653e",
   "metadata": {},
   "outputs": [
    {
     "name": "stdout",
     "output_type": "stream",
     "text": [
      "Train AUC: 0.644\n",
      "Test AUC: 0.649\n"
     ]
    },
    {
     "data": {
      "image/png": "[encoded data removed]",
      "text/plain": [
       "<Figure size 640x480 with 1 Axes>"
      ]
     },
     "metadata": {},
     "output_type": "display_data"
    }
   ],
   "source": [
    "train_pred = model.predict_proba(X_train)[:,1]\n",
    "test_pred = model.predict_proba(X_test)[:,1]\n",
    "\n",
    "print(\"Train AUC: %.3f\" % metrics.roc_auc_score(y_train, train_pred))\n",
    "print(\"Test AUC: %.3f\" % metrics.roc_auc_score(y_test, test_pred))\n",
    "\n",
    "train_fpr, train_tpr, _ = metrics.roc_curve(y_train, train_pred)\n",
    "test_fpr, test_tpr, _ = metrics.roc_curve(y_test, test_pred)\n",
    "\n",
    "# plot the roc curve for the model\n",
    "plt.plot(train_fpr, train_tpr, linestyle='--', label='Train')\n",
    "plt.plot(test_fpr, test_tpr, marker='.', label='Test')\n",
    "# axis labels\n",
    "plt.xlabel('False Positive Rate')\n",
    "plt.ylabel('True Positive Rate')\n",
    "# show the legend\n",
    "plt.legend()\n",
    "# show the plot\n",
    "plt.show()"
   ]
  },
  {
   "cell_type": "code",
   "execution_count": 146,
   "id": "abd3ebb5",
   "metadata": {},
   "outputs": [],
   "source": [
    "X_new = df_new.loc[:, df_new.columns != 'NoShow']\n",
    "new_pred = model.predict_proba(X_new)[:,1]"
   ]
  },
  {
   "cell_type": "code",
   "execution_count": 147,
   "id": "09d8cff9",
   "metadata": {},
   "outputs": [],
   "source": [
    "pd.DataFrame(new_pred).to_csv(\"data/pred_lr.csv\", index = False)"
   ]
  },
  {
   "cell_type": "code",
   "execution_count": null,
   "id": "26427c83",
   "metadata": {},
   "outputs": [],
   "source": []
  }
 ],
 "metadata": {
  "kernelspec": {
   "display_name": "Python 3",
   "language": "python",
   "name": "python3"
  },
  "language_info": {
   "codemirror_mode": {
    "name": "ipython",
    "version": 3
   },
   "file_extension": ".py",
   "mimetype": "text/x-python",
   "name": "python",
   "nbconvert_exporter": "python",
   "pygments_lexer": "ipython3",
   "version": "3.9.5"
  }
 },
 "nbformat": 4,
 "nbformat_minor": 5
}
