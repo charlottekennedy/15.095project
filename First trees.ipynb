{
 "cells": [
  {
   "cell_type": "code",
   "execution_count": 1,
   "id": "f4178149",
   "metadata": {},
   "outputs": [],
   "source": [
    "using CSV, DataFrames, Random, ScikitLearn, Plots, CategoricalArrays"
   ]
  },
  {
   "cell_type": "code",
   "execution_count": 2,
   "id": "dd9c3ab3",
   "metadata": {},
   "outputs": [],
   "source": [
    "data = CSV.read(\"data/df_new.csv\",DataFrame);"
   ]
  },
  {
   "cell_type": "code",
   "execution_count": 3,
   "id": "105c1933",
   "metadata": {},
   "outputs": [
    {
     "data": {
      "text/plain": [
       "16-element Vector{String}:\n",
       " \"PatientId\"\n",
       " \"AppointmentID\"\n",
       " \"Gender\"\n",
       " \"ScheduledDay\"\n",
       " \"AppointmentDay\"\n",
       " \"Age\"\n",
       " \"Neighbourhood\"\n",
       " \"Scholarship\"\n",
       " \"Hipertension\"\n",
       " \"Diabetes\"\n",
       " \"Alcoholism\"\n",
       " \"Handcap\"\n",
       " \"SMS_received\"\n",
       " \"NoShow\"\n",
       " \"AwaitingTime\"\n",
       " \"NbPrevious\""
      ]
     },
     "execution_count": 3,
     "metadata": {},
     "output_type": "execute_result"
    }
   ],
   "source": [
    "names(data)"
   ]
  },
  {
   "cell_type": "code",
   "execution_count": 4,
   "id": "c929cf5f",
   "metadata": {},
   "outputs": [
    {
     "data": {
      "text/html": [
       "<div class=\"data-frame\"><p>5 rows × 16 columns (omitted printing of 11 columns)</p><table class=\"data-frame\"><thead><tr><th></th><th>PatientId</th><th>AppointmentID</th><th>Gender</th><th>ScheduledDay</th><th>AppointmentDay</th></tr><tr><th></th><th title=\"Int64\">Int64</th><th title=\"Int64\">Int64</th><th title=\"String1\">String1</th><th title=\"String31\">String31</th><th title=\"String31\">String31</th></tr></thead><tbody><tr><th>1</th><td>30845</td><td>5642903</td><td>F</td><td>2016-04-29 18:38:08+00:00</td><td>2016-04-29 23:59:59+00:00</td></tr><tr><th>2</th><td>55325</td><td>5642503</td><td>M</td><td>2016-04-29 16:08:27+00:00</td><td>2016-04-29 23:59:59+00:00</td></tr><tr><th>3</th><td>15722</td><td>5642549</td><td>F</td><td>2016-04-29 16:19:04+00:00</td><td>2016-04-29 23:59:59+00:00</td></tr><tr><th>4</th><td>9018</td><td>5642828</td><td>F</td><td>2016-04-29 17:29:31+00:00</td><td>2016-04-29 23:59:59+00:00</td></tr><tr><th>5</th><td>23941</td><td>5642494</td><td>F</td><td>2016-04-29 16:07:23+00:00</td><td>2016-04-29 23:59:59+00:00</td></tr></tbody></table></div>"
      ],
      "text/latex": [
       "\\begin{tabular}{r|cccccc}\n",
       "\t& PatientId & AppointmentID & Gender & ScheduledDay & AppointmentDay & \\\\\n",
       "\t\\hline\n",
       "\t& Int64 & Int64 & String1 & String31 & String31 & \\\\\n",
       "\t\\hline\n",
       "\t1 & 30845 & 5642903 & F & 2016-04-29 18:38:08+00:00 & 2016-04-29 23:59:59+00:00 & $\\dots$ \\\\\n",
       "\t2 & 55325 & 5642503 & M & 2016-04-29 16:08:27+00:00 & 2016-04-29 23:59:59+00:00 & $\\dots$ \\\\\n",
       "\t3 & 15722 & 5642549 & F & 2016-04-29 16:19:04+00:00 & 2016-04-29 23:59:59+00:00 & $\\dots$ \\\\\n",
       "\t4 & 9018 & 5642828 & F & 2016-04-29 17:29:31+00:00 & 2016-04-29 23:59:59+00:00 & $\\dots$ \\\\\n",
       "\t5 & 23941 & 5642494 & F & 2016-04-29 16:07:23+00:00 & 2016-04-29 23:59:59+00:00 & $\\dots$ \\\\\n",
       "\\end{tabular}\n"
      ],
      "text/plain": [
       "\u001b[1m5×16 DataFrame\u001b[0m\n",
       "\u001b[1m Row \u001b[0m│\u001b[1m PatientId \u001b[0m\u001b[1m AppointmentID \u001b[0m\u001b[1m Gender  \u001b[0m\u001b[1m ScheduledDay              \u001b[0m\u001b[1m Appointme\u001b[0m ⋯\n",
       "\u001b[1m     \u001b[0m│\u001b[90m Int64     \u001b[0m\u001b[90m Int64         \u001b[0m\u001b[90m String1 \u001b[0m\u001b[90m String31                  \u001b[0m\u001b[90m String31 \u001b[0m ⋯\n",
       "─────┼──────────────────────────────────────────────────────────────────────────\n",
       "   1 │     30845        5642903  F        2016-04-29 18:38:08+00:00  2016-04-2 ⋯\n",
       "   2 │     55325        5642503  M        2016-04-29 16:08:27+00:00  2016-04-2\n",
       "   3 │     15722        5642549  F        2016-04-29 16:19:04+00:00  2016-04-2\n",
       "   4 │      9018        5642828  F        2016-04-29 17:29:31+00:00  2016-04-2\n",
       "   5 │     23941        5642494  F        2016-04-29 16:07:23+00:00  2016-04-2 ⋯\n",
       "\u001b[36m                                                              12 columns omitted\u001b[0m"
      ]
     },
     "execution_count": 4,
     "metadata": {},
     "output_type": "execute_result"
    }
   ],
   "source": [
    "first(data,5)"
   ]
  },
  {
   "cell_type": "code",
   "execution_count": 5,
   "id": "0f33feb4",
   "metadata": {},
   "outputs": [],
   "source": [
    "X = select(data, Not([:AppointmentID, :ScheduledDay, :AppointmentDay, :NoShow]))\n",
    "y = data[:,:NoShow];"
   ]
  },
  {
   "cell_type": "code",
   "execution_count": 6,
   "id": "4d35ed44",
   "metadata": {},
   "outputs": [],
   "source": [
    "Random.seed!(1);\n",
    "(train_X, train_y), (test_X, test_y) = IAI.split_data(:classification, X, y,  train_proportion=0.6, seed=1);"
   ]
  },
  {
   "cell_type": "code",
   "execution_count": 7,
   "id": "f381dbe3",
   "metadata": {},
   "outputs": [
    {
     "data": {
      "text/plain": [
       "eval (generic function with 2 methods)"
      ]
     },
     "execution_count": 7,
     "metadata": {},
     "output_type": "execute_result"
    }
   ],
   "source": [
    "function eval(model, prt)\n",
    "    acc_train = IAI.score(model, train_X, train_y, criterion=:misclassification)\n",
    "    auc_train = IAI.score(model, train_X, train_y, criterion=:auc)\n",
    "    acc_test = IAI.score(model, test_X, test_y, criterion=:misclassification)\n",
    "    auc_test = IAI.score(model, test_X, test_y, criterion=:auc)\n",
    "    if prt\n",
    "        println(\"Training\")\n",
    "        println(\"Accuracy : $acc_train\")\n",
    "        println(\"AUC : $auc_train \\n\")\n",
    "        println(\"Testing\")\n",
    "        println(\"Accuracy : $acc_test\")\n",
    "        println(\"AUC : $auc_test\")\n",
    "    end\n",
    "    return (acc_train, auc_train, acc_test, auc_test)\n",
    "end"
   ]
  },
  {
   "cell_type": "code",
   "execution_count": 8,
   "id": "8c84f732",
   "metadata": {},
   "outputs": [
    {
     "ename": "LoadError",
     "evalue": "ArgumentError: criterion must be in (:misclassification, :gini, :entropy) for OptimalTrees.OptimalTreeClassifier",
     "output_type": "error",
     "traceback": [
      "ArgumentError: criterion must be in (:misclassification, :gini, :entropy) for OptimalTrees.OptimalTreeClassifier",
      "",
      "Stacktrace:",
      "  [1] validate_criterion",
      "    @ C:\\Users\\iai\\builds\\InterpretableAI\\SystemImage\\SysImgBuilder\\.julia\\packages\\IAIBase\\7Y6Y3\\src\\learner.jl:463 [inlined]",
      "  [2] init!(lnr::OptimalTrees.OptimalTreeClassifier, data::IAIBase.Data{IAIBase.ClassificationTask, IAIBase.ClassificationTarget})",
      "    @ IAIBase C:\\Users\\iai\\builds\\InterpretableAI\\SystemImage\\SysImgBuilder\\.julia\\packages\\IAIBase\\7Y6Y3\\src\\learner.jl:280",
      "  [3] #_fit!#226",
      "    @ C:\\Users\\iai\\builds\\InterpretableAI\\SystemImage\\SysImgBuilder\\.julia\\packages\\IAIBase\\7Y6Y3\\src\\api.jl:150 [inlined]",
      "  [4] _fit!",
      "    @ C:\\Users\\iai\\builds\\InterpretableAI\\SystemImage\\SysImgBuilder\\.julia\\packages\\IAIBase\\7Y6Y3\\src\\api.jl:150 [inlined]",
      "  [5] grid_fit!(lnr::OptimalTrees.OptimalTreeClassifier, data::IAIBase.Data{IAIBase.ClassificationTask, IAIBase.ClassificationTarget}, fold::Tuple{Vector{Int64}, Vector{Int64}}, params::Dict{Symbol, Any}, validation_criterion::Symbol; kwargs::Base.Iterators.Pairs{Union{}, Union{}, Tuple{}, NamedTuple{(), Tuple{}}})",
      "    @ IAITrees C:\\Users\\iai\\builds\\InterpretableAI\\SystemImage\\SysImgBuilder\\.julia\\packages\\IAITrees\\d0Vbd\\src\\gridsearch.jl:100",
      "  [6] grid_fit!",
      "    @ C:\\Users\\iai\\builds\\InterpretableAI\\SystemImage\\SysImgBuilder\\.julia\\packages\\IAITrees\\d0Vbd\\src\\gridsearch.jl:88 [inlined]",
      "  [7] _fit_common!(grid::IAIBase.GridSearch{OptimalTrees.OptimalTreeClassifier, IAITrees.TreeGridResult}, data::IAIBase.Data{IAIBase.ClassificationTask, IAIBase.ClassificationTarget}; validation_criterion::Symbol, verbose::Bool, run_gc::Bool, kwargs::Base.Iterators.Pairs{Union{}, Union{}, Tuple{}, NamedTuple{(), Tuple{}}})",
      "    @ IAIBase C:\\Users\\iai\\builds\\InterpretableAI\\SystemImage\\SysImgBuilder\\.julia\\packages\\IAIBase\\7Y6Y3\\src\\gridsearch.jl:630",
      "  [8] _fit!(grid::IAIBase.GridSearch{OptimalTrees.OptimalTreeClassifier, IAITrees.TreeGridResult}, data::IAIBase.Data{IAIBase.ClassificationTask, IAIBase.ClassificationTarget}; train_proportion::Nothing, kwargs::Base.Iterators.Pairs{Symbol, Symbol, Tuple{Symbol}, NamedTuple{(:validation_criterion,), Tuple{Symbol}}})",
      "    @ IAIBase C:\\Users\\iai\\builds\\InterpretableAI\\SystemImage\\SysImgBuilder\\.julia\\packages\\IAIBase\\7Y6Y3\\src\\gridsearch.jl:541",
      "  [9] fit!(grid::IAIBase.GridSearch{OptimalTrees.OptimalTreeClassifier, IAITrees.TreeGridResult}, X::DataFrame, y::SubArray{Int64, 1, Vector{Int64}, Tuple{Vector{Int64}}, false}; sample_weight::Nothing, kwargs::Base.Iterators.Pairs{Symbol, Symbol, Tuple{Symbol}, NamedTuple{(:validation_criterion,), Tuple{Symbol}}})",
      "    @ IAIBase C:\\Users\\iai\\builds\\InterpretableAI\\SystemImage\\SysImgBuilder\\.julia\\packages\\IAIBase\\7Y6Y3\\src\\api.jl:104",
      " [10] top-level scope",
      "    @ In[8]:3",
      " [11] eval",
      "    @ .\\boot.jl:360 [inlined]",
      " [12] include_string(mapexpr::typeof(REPL.softscope), mod::Module, code::String, filename::String)",
      "    @ Base .\\loading.jl:1116"
     ]
    }
   ],
   "source": [
    "OCT_miscla = IAI.GridSearch(\n",
    "    IAI.OptimalTreeClassifier(max_depth=3, minbucket=5, criterion=:auc, max_categoric_levels_before_warning = 100))\n",
    "IAI.fit!(OCT_miscla,train_X,train_y, validation_criterion=:auc)\n",
    "OCT_miscla_opti = IAI.get_learner(OCT_miscla)\n",
    "\n",
    "eval(OCT_miscla_opti, true);"
   ]
  },
  {
   "cell_type": "code",
   "execution_count": 9,
   "id": "3d76a122",
   "metadata": {},
   "outputs": [
    {
     "ename": "LoadError",
     "evalue": "UndefVarError: OCT_miscla_opti not defined",
     "output_type": "error",
     "traceback": [
      "UndefVarError: OCT_miscla_opti not defined",
      "",
      "Stacktrace:",
      " [1] top-level scope",
      "   @ :0",
      " [2] eval",
      "   @ .\\boot.jl:360 [inlined]",
      " [3] include_string(mapexpr::typeof(REPL.softscope), mod::Module, code::String, filename::String)",
      "   @ Base .\\loading.jl:1116"
     ]
    }
   ],
   "source": [
    "OCT_miscla_opti"
   ]
  },
  {
   "cell_type": "code",
   "execution_count": null,
   "id": "6028f1ff",
   "metadata": {},
   "outputs": [],
   "source": []
  },
  {
   "cell_type": "code",
   "execution_count": null,
   "id": "19bea654",
   "metadata": {},
   "outputs": [],
   "source": []
  },
  {
   "cell_type": "code",
   "execution_count": null,
   "id": "026ec798",
   "metadata": {},
   "outputs": [
    {
     "name": "stderr",
     "output_type": "stream",
     "text": [
      "┌ Warning: The following categoric features have more than 20 levels:\n",
      "│ - Neighbourhood\n",
      "│ \n",
      "│ We recommend extreme caution when using categoric features with many levels inside Optimal Trees, for more information and advice on how to handle such features, please refer to this link:\n",
      "│ \n",
      "│ https://docs.interpretable.ai/dev/OptimalTrees/tips/#Categorical-Variables-with-Many-Levels\n",
      "│ \n",
      "│ You can suppress this warning by increasing the value of the parameter `max_categoric_levels_before_warning` on the Optimal Tree learner.\n",
      "└ @ nothing nothing:nothing\n",
      "┌ Warning: The following categoric features have more than 20 levels:\n",
      "│ - Neighbourhood\n",
      "│ \n",
      "│ We recommend extreme caution when using categoric features with many levels inside Optimal Trees, for more information and advice on how to handle such features, please refer to this link:\n",
      "│ \n",
      "│ https://docs.interpretable.ai/dev/OptimalTrees/tips/#Categorical-Variables-with-Many-Levels\n",
      "│ \n",
      "│ You can suppress this warning by increasing the value of the parameter `max_categoric_levels_before_warning` on the Optimal Tree learner.\n",
      "└ @ nothing nothing:nothing\n",
      "┌ Warning: The following categoric features have more than 20 levels:\n",
      "│ - Neighbourhood\n",
      "│ \n",
      "│ We recommend extreme caution when using categoric features with many levels inside Optimal Trees, for more information and advice on how to handle such features, please refer to this link:\n",
      "│ \n",
      "│ https://docs.interpretable.ai/dev/OptimalTrees/tips/#Categorical-Variables-with-Many-Levels\n",
      "│ \n",
      "│ You can suppress this warning by increasing the value of the parameter `max_categoric_levels_before_warning` on the Optimal Tree learner.\n",
      "└ @ nothing nothing:nothing\n",
      "┌ Warning: The following categoric features have more than 20 levels:\n",
      "│ - Neighbourhood\n",
      "│ \n",
      "│ We recommend extreme caution when using categoric features with many levels inside Optimal Trees, for more information and advice on how to handle such features, please refer to this link:\n",
      "│ \n",
      "│ https://docs.interpretable.ai/dev/OptimalTrees/tips/#Categorical-Variables-with-Many-Levels\n",
      "│ \n",
      "│ You can suppress this warning by increasing the value of the parameter `max_categoric_levels_before_warning` on the Optimal Tree learner.\n",
      "└ @ nothing nothing:nothing\n",
      "┌ Warning: The following categoric features have more than 20 levels:\n",
      "│ - Neighbourhood\n",
      "│ \n",
      "│ We recommend extreme caution when using categoric features with many levels inside Optimal Trees, for more information and advice on how to handle such features, please refer to this link:\n",
      "│ \n",
      "│ https://docs.interpretable.ai/dev/OptimalTrees/tips/#Categorical-Variables-with-Many-Levels\n",
      "│ \n",
      "│ You can suppress this warning by increasing the value of the parameter `max_categoric_levels_before_warning` on the Optimal Tree learner.\n",
      "└ @ nothing nothing:nothing\n",
      "┌ Warning: The following categoric features have more than 20 levels:\n",
      "│ - Neighbourhood\n",
      "│ \n",
      "│ We recommend extreme caution when using categoric features with many levels inside Optimal Trees, for more information and advice on how to handle such features, please refer to this link:\n",
      "│ \n",
      "│ https://docs.interpretable.ai/dev/OptimalTrees/tips/#Categorical-Variables-with-Many-Levels\n",
      "│ \n",
      "│ You can suppress this warning by increasing the value of the parameter `max_categoric_levels_before_warning` on the Optimal Tree learner.\n",
      "└ @ nothing nothing:nothing\n",
      "┌ Warning: The following categoric features have more than 20 levels:\n",
      "│ - Neighbourhood\n",
      "│ \n",
      "│ We recommend extreme caution when using categoric features with many levels inside Optimal Trees, for more information and advice on how to handle such features, please refer to this link:\n",
      "│ \n",
      "│ https://docs.interpretable.ai/dev/OptimalTrees/tips/#Categorical-Variables-with-Many-Levels\n",
      "│ \n",
      "│ You can suppress this warning by increasing the value of the parameter `max_categoric_levels_before_warning` on the Optimal Tree learner.\n",
      "└ @ nothing nothing:nothing\n",
      "┌ Warning: The following categoric features have more than 20 levels:\n",
      "│ - Neighbourhood\n",
      "│ \n",
      "│ We recommend extreme caution when using categoric features with many levels inside Optimal Trees, for more information and advice on how to handle such features, please refer to this link:\n",
      "│ \n",
      "│ https://docs.interpretable.ai/dev/OptimalTrees/tips/#Categorical-Variables-with-Many-Levels\n",
      "│ \n",
      "│ You can suppress this warning by increasing the value of the parameter `max_categoric_levels_before_warning` on the Optimal Tree learner.\n",
      "└ @ nothing nothing:nothing\n",
      "┌ Warning: The following categoric features have more than 20 levels:\n",
      "│ - Neighbourhood\n",
      "│ \n",
      "│ We recommend extreme caution when using categoric features with many levels inside Optimal Trees, for more information and advice on how to handle such features, please refer to this link:\n",
      "│ \n",
      "│ https://docs.interpretable.ai/dev/OptimalTrees/tips/#Categorical-Variables-with-Many-Levels\n",
      "│ \n",
      "│ You can suppress this warning by increasing the value of the parameter `max_categoric_levels_before_warning` on the Optimal Tree learner.\n",
      "└ @ nothing nothing:nothing\n"
     ]
    }
   ],
   "source": [
    "gr = IAI.GridSearch(\n",
    "    IAI.OptimalTreeClassifier(criterion=:misclassification, max_categoric_levels_before_warning = 20),\n",
    "    max_depth = 1:10,\n",
    "    minbucket = 1:10,\n",
    ")\n",
    "IAI.fit!(gr, train_X, train_y, validation_criterion=:misclassification)\n",
    "lnr = IAI.get_learner(gr);"
   ]
  },
  {
   "cell_type": "code",
   "execution_count": null,
   "id": "a721ca50",
   "metadata": {},
   "outputs": [],
   "source": [
    "(_,_, acc, auc) = eval(lnr, true);"
   ]
  },
  {
   "cell_type": "code",
   "execution_count": null,
   "id": "cef39feb",
   "metadata": {},
   "outputs": [],
   "source": [
    "lnr"
   ]
  },
  {
   "cell_type": "code",
   "execution_count": null,
   "id": "3b2d438a",
   "metadata": {},
   "outputs": [],
   "source": []
  }
 ],
 "metadata": {
  "kernelspec": {
   "display_name": "Julia 1.6.2",
   "language": "julia",
   "name": "julia-1.6"
  },
  "language_info": {
   "file_extension": ".jl",
   "mimetype": "application/julia",
   "name": "julia",
   "version": "1.6.2"
  }
 },
 "nbformat": 4,
 "nbformat_minor": 5
}
