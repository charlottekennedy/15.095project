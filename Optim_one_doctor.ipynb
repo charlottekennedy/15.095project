{
 "cells": [
  {
   "cell_type": "code",
   "execution_count": 1,
   "id": "33ccae7e",
   "metadata": {},
   "outputs": [],
   "source": [
    "using CSV, DataFrames, Statistics, Clustering, Plots, Random, Gurobi, JuMP, DataStructures, StatsBase"
   ]
  },
  {
   "cell_type": "code",
   "execution_count": 2,
   "id": "42b77fe3",
   "metadata": {},
   "outputs": [],
   "source": [
    "data_prev = CSV.read(\"data/pred_Maria.csv\",DataFrame)\n",
    "data_opti = CSV.read(\"data/opti_Maria.csv\",DataFrame)\n",
    "data_logistic = CSV.read(\"data/opti_Maria.csv\",DataFrame)\n",
    "pred_logistic = CSV.read(\"data/pred_lr.csv\",DataFrame)[:, \"0\"];"
   ]
  },
  {
   "cell_type": "code",
   "execution_count": 4,
   "id": "85a6090c",
   "metadata": {},
   "outputs": [],
   "source": [
    "#number booked appointments\n",
    "na = nrow(data_prev)\n",
    "#number new appointments\n",
    "nb = nrow(data_opti)\n",
    "ntot = na + nb\n",
    "#number doctors\n",
    "nd = 15\n",
    "#penalty added nurse\n",
    "pen_nurse = 5\n",
    "#penalty hole\n",
    "pen\n",
    "#previously_booked\n",
    "s = data_prev.slot .+1 ;"
   ]
  },
  {
   "cell_type": "code",
   "execution_count": 13,
   "id": "f9aca500",
   "metadata": {},
   "outputs": [],
   "source": [
    "na_1 = floor(na/15)\n",
    "nb_1 = floor(nb/15)\n",
    "data_prev_1 = data_prev[rand(1:na, Int(na_1)),:]\n",
    "data_opti_1 = data_opti[rand(1:nb, Int(nb_1)),:];"
   ]
  },
  {
   "cell_type": "code",
   "execution_count": 14,
   "id": "91656d3b",
   "metadata": {},
   "outputs": [
    {
     "data": {
      "text/plain": [
       "optim_add_nurse_hole (generic function with 1 method)"
      ]
     },
     "execution_count": 14,
     "metadata": {},
     "output_type": "execute_result"
    }
   ],
   "source": [
    "function optim_add_nurse_hole(p)\n",
    "model = Model(with_optimizer(Gurobi.Optimizer, TimeLimit=180))\n",
    "set_optimizer_attribute(model, \"OutputFlag\", 0)\n",
    "\n",
    "@variable(model, x[1:ntot, 1:50], Bin)\n",
    "@variable(model, t[1:50])\n",
    "\n",
    "@objective(model, Min, sum(t)*pen_nurse)\n",
    "\n",
    "@constraint(model, [j=1:50], t[j] >= sum(x[i,j]*p[i,j] for i=1:ntot) - nd) \n",
    "@constraint(model, [j=1:50], t[j] >= 0)\n",
    "\n",
    "for i=1:na\n",
    "    for j=1:50\n",
    "        if s[i]==j\n",
    "            @constraint(model, x[i,j] == 1)\n",
    "        else\n",
    "            @constraint(model, x[i,j] == 0)\n",
    "        end\n",
    "    end\n",
    "end\n",
    "\n",
    "for i=na+1:ntot\n",
    "    for j=1:50\n",
    "        if j in a[i-na,:]\n",
    "        else\n",
    "            @constraint(model, x[i,j] == 0)\n",
    "        end\n",
    "    end\n",
    "end\n",
    "\n",
    "@constraint(model, [i=1:ntot], sum(x[i,j] for j=1:50) == 1)\n",
    "        \n",
    "\n",
    "optimize!(model)\n",
    "return objective_value(model), JuMP.value.(x)\n",
    "end"
   ]
  },
  {
   "cell_type": "code",
   "execution_count": null,
   "id": "391470c3",
   "metadata": {},
   "outputs": [],
   "source": []
  }
 ],
 "metadata": {
  "kernelspec": {
   "display_name": "Julia 1.6.2",
   "language": "julia",
   "name": "julia-1.6"
  },
  "language_info": {
   "file_extension": ".jl",
   "mimetype": "application/julia",
   "name": "julia",
   "version": "1.6.2"
  }
 },
 "nbformat": 4,
 "nbformat_minor": 5
}
