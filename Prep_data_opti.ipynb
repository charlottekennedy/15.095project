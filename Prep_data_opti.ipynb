{
 "cells": [
  {
   "cell_type": "code",
   "execution_count": 131,
   "id": "57a23daf",
   "metadata": {},
   "outputs": [],
   "source": [
    "import pandas as pd\n",
    "import numpy as np\n",
    "import random\n",
    "from sklearn import preprocessing\n",
    "import matplotlib.pyplot as plt\n",
    "from datetime import date"
   ]
  },
  {
   "cell_type": "code",
   "execution_count": 132,
   "id": "e24cd63b",
   "metadata": {},
   "outputs": [],
   "source": [
    "data = pd.read_csv(\"data/df_new.csv\")"
   ]
  },
  {
   "cell_type": "code",
   "execution_count": 133,
   "id": "55387eef",
   "metadata": {},
   "outputs": [],
   "source": [
    "data.Gender = pd.get_dummies(data.Gender, columns = ['Gender'], drop_first = True)\n",
    "data = pd.merge(data, pd.get_dummies(data.Neighbourhood, columns = ['Neighbourhood'], drop_first = True), left_index=True, right_index=True)\n",
    "#data = data.drop(columns=['Neighbourhood'])"
   ]
  },
  {
   "cell_type": "markdown",
   "id": "4b8eecfc",
   "metadata": {},
   "source": [
    "### 1. Split data for optim part"
   ]
  },
  {
   "cell_type": "code",
   "execution_count": 134,
   "id": "09f7542f",
   "metadata": {},
   "outputs": [],
   "source": [
    "df_opti = data[data.ScheduledTime >= \"2016-05-30\"]\n",
    "df_opti = df_opti[df_opti.ScheduledTime <= \"2016-06-05\"]"
   ]
  },
  {
   "cell_type": "markdown",
   "id": "29afe2ae",
   "metadata": {},
   "source": [
    "df_opti.to_csv(\"data/data_opti.csv\", index = False)"
   ]
  },
  {
   "cell_type": "code",
   "execution_count": 135,
   "id": "98745e9d",
   "metadata": {},
   "outputs": [],
   "source": [
    "df_pred = data[data.ScheduledTime < \"2016-05-30\"]"
   ]
  },
  {
   "cell_type": "code",
   "execution_count": 136,
   "id": "624d3277",
   "metadata": {},
   "outputs": [],
   "source": [
    "df_train = df_pred[df_pred.AppointmentTime < \"2016-05-30\"]"
   ]
  },
  {
   "cell_type": "markdown",
   "id": "f2eed9ec",
   "metadata": {},
   "source": [
    "df_train.to_csv(\"data/data_train.csv\", index= False)"
   ]
  },
  {
   "cell_type": "markdown",
   "id": "2686ddad",
   "metadata": {},
   "source": [
    "df_pred.to_csv(\"data/data_pred.csv\", index = False)"
   ]
  },
  {
   "cell_type": "markdown",
   "id": "bd496b6c",
   "metadata": {},
   "source": [
    "### 2. Select one clinic and nb doctors"
   ]
  },
  {
   "cell_type": "markdown",
   "id": "fc3d8bf4",
   "metadata": {},
   "source": [
    "Select clinic with enough appointments and high no show rate : 5800 appointments and 21% no show for Maria Ortiz"
   ]
  },
  {
   "cell_type": "code",
   "execution_count": 137,
   "id": "6cf6e1b6",
   "metadata": {},
   "outputs": [],
   "source": [
    "neigh = \"MARIA ORTIZ\""
   ]
  },
  {
   "cell_type": "markdown",
   "id": "af9c401e",
   "metadata": {},
   "source": [
    "n_doc = np.floor(len(df_opti[df_opti.Neighbourhood == neigh])/(5*10))"
   ]
  },
  {
   "cell_type": "code",
   "execution_count": 9,
   "id": "88bdebe3",
   "metadata": {},
   "outputs": [],
   "source": [
    "n_doc = 22"
   ]
  },
  {
   "cell_type": "code",
   "execution_count": 10,
   "id": "610215ed",
   "metadata": {},
   "outputs": [],
   "source": [
    "df_pred_c = df_pred[df_pred[neigh] == 1]"
   ]
  },
  {
   "cell_type": "code",
   "execution_count": 11,
   "id": "65654c3a",
   "metadata": {},
   "outputs": [],
   "source": [
    "df_opti_c = df_opti[df_opti[neigh] == 1]"
   ]
  },
  {
   "cell_type": "markdown",
   "id": "e81fe6d5",
   "metadata": {},
   "source": [
    "### 3. Get prebooked slots"
   ]
  },
  {
   "cell_type": "code",
   "execution_count": 12,
   "id": "9108fd3d",
   "metadata": {},
   "outputs": [],
   "source": [
    "df_pred_c = df_pred_c[df_pred_c.AppointmentTime >= \"2016-05-30\"]\n",
    "df_pred_c = df_pred_c[df_pred_c.AppointmentTime <= \"2016-06-05\"]\n",
    "df_pred_c['AppointmentTime']= pd.to_datetime(df_pred_c['AppointmentTime'])\n",
    "df_pred_c.AppointmentTime = df_pred_c.AppointmentTime.dt.tz_localize(None)\n",
    "df_pred_c[\"slot\"] = df_pred_c.apply(\n",
    "    lambda row: (row.AppointmentTime - pd.to_datetime(\"2016-05-30\")).days*10 + random.randint(0,9), axis=1)\n",
    "df_pred_c.to_csv(\"data/pred_Maria.csv\")"
   ]
  },
  {
   "cell_type": "code",
   "execution_count": 13,
   "id": "fa718a9c",
   "metadata": {},
   "outputs": [],
   "source": [
    "df_opti_c = df_opti_c[df_opti_c.AppointmentTime >= \"2016-05-30\"]\n",
    "df_opti_c = df_opti_c[df_opti_c.AppointmentTime <= \"2016-06-05\"]\n",
    "df_opti_c.to_csv(\"data/opti_Maria.csv\")"
   ]
  },
  {
   "cell_type": "code",
   "execution_count": 14,
   "id": "8c4ad517",
   "metadata": {},
   "outputs": [
    {
     "data": {
      "text/html": [
       "<div>\n",
       "<style scoped>\n",
       "    .dataframe tbody tr th:only-of-type {\n",
       "        vertical-align: middle;\n",
       "    }\n",
       "\n",
       "    .dataframe tbody tr th {\n",
       "        vertical-align: top;\n",
       "    }\n",
       "\n",
       "    .dataframe thead th {\n",
       "        text-align: right;\n",
       "    }\n",
       "</style>\n",
       "<table border=\"1\" class=\"dataframe\">\n",
       "  <thead>\n",
       "    <tr style=\"text-align: right;\">\n",
       "      <th></th>\n",
       "      <th>PatientId</th>\n",
       "      <th>AppointmentID</th>\n",
       "      <th>Gender</th>\n",
       "      <th>ScheduledTime</th>\n",
       "      <th>AppointmentTime</th>\n",
       "      <th>Age</th>\n",
       "      <th>Neighbourhood</th>\n",
       "      <th>Scholarship</th>\n",
       "      <th>Hipertension</th>\n",
       "      <th>Diabetes</th>\n",
       "      <th>...</th>\n",
       "      <th>SANTOS REIS</th>\n",
       "      <th>SEGURANÇA DO LAR</th>\n",
       "      <th>SOLON BORGES</th>\n",
       "      <th>SÃO BENEDITO</th>\n",
       "      <th>SÃO CRISTÓVÃO</th>\n",
       "      <th>SÃO JOSÉ</th>\n",
       "      <th>SÃO PEDRO</th>\n",
       "      <th>TABUAZEIRO</th>\n",
       "      <th>UNIVERSITÁRIO</th>\n",
       "      <th>VILA RUBIM</th>\n",
       "    </tr>\n",
       "  </thead>\n",
       "  <tbody>\n",
       "    <tr>\n",
       "      <th>3250</th>\n",
       "      <td>23306</td>\n",
       "      <td>95781</td>\n",
       "      <td>0</td>\n",
       "      <td>2016-05-31 11:47:10+00:00</td>\n",
       "      <td>2016-05-31 23:59:59+00:00</td>\n",
       "      <td>49</td>\n",
       "      <td>MARIA ORTIZ</td>\n",
       "      <td>0</td>\n",
       "      <td>0</td>\n",
       "      <td>0</td>\n",
       "      <td>...</td>\n",
       "      <td>0</td>\n",
       "      <td>0</td>\n",
       "      <td>0</td>\n",
       "      <td>0</td>\n",
       "      <td>0</td>\n",
       "      <td>0</td>\n",
       "      <td>0</td>\n",
       "      <td>0</td>\n",
       "      <td>0</td>\n",
       "      <td>0</td>\n",
       "    </tr>\n",
       "    <tr>\n",
       "      <th>3266</th>\n",
       "      <td>38700</td>\n",
       "      <td>93903</td>\n",
       "      <td>0</td>\n",
       "      <td>2016-05-30 19:25:44+00:00</td>\n",
       "      <td>2016-05-31 23:59:59+00:00</td>\n",
       "      <td>24</td>\n",
       "      <td>MARIA ORTIZ</td>\n",
       "      <td>0</td>\n",
       "      <td>0</td>\n",
       "      <td>0</td>\n",
       "      <td>...</td>\n",
       "      <td>0</td>\n",
       "      <td>0</td>\n",
       "      <td>0</td>\n",
       "      <td>0</td>\n",
       "      <td>0</td>\n",
       "      <td>0</td>\n",
       "      <td>0</td>\n",
       "      <td>0</td>\n",
       "      <td>0</td>\n",
       "      <td>0</td>\n",
       "    </tr>\n",
       "    <tr>\n",
       "      <th>3294</th>\n",
       "      <td>41570</td>\n",
       "      <td>94241</td>\n",
       "      <td>0</td>\n",
       "      <td>2016-05-31 07:18:33+00:00</td>\n",
       "      <td>2016-05-31 23:59:59+00:00</td>\n",
       "      <td>42</td>\n",
       "      <td>MARIA ORTIZ</td>\n",
       "      <td>0</td>\n",
       "      <td>0</td>\n",
       "      <td>0</td>\n",
       "      <td>...</td>\n",
       "      <td>0</td>\n",
       "      <td>0</td>\n",
       "      <td>0</td>\n",
       "      <td>0</td>\n",
       "      <td>0</td>\n",
       "      <td>0</td>\n",
       "      <td>0</td>\n",
       "      <td>0</td>\n",
       "      <td>0</td>\n",
       "      <td>0</td>\n",
       "    </tr>\n",
       "    <tr>\n",
       "      <th>3296</th>\n",
       "      <td>9842</td>\n",
       "      <td>91782</td>\n",
       "      <td>0</td>\n",
       "      <td>2016-05-30 09:23:34+00:00</td>\n",
       "      <td>2016-05-30 23:59:59+00:00</td>\n",
       "      <td>52</td>\n",
       "      <td>MARIA ORTIZ</td>\n",
       "      <td>0</td>\n",
       "      <td>0</td>\n",
       "      <td>0</td>\n",
       "      <td>...</td>\n",
       "      <td>0</td>\n",
       "      <td>0</td>\n",
       "      <td>0</td>\n",
       "      <td>0</td>\n",
       "      <td>0</td>\n",
       "      <td>0</td>\n",
       "      <td>0</td>\n",
       "      <td>0</td>\n",
       "      <td>0</td>\n",
       "      <td>0</td>\n",
       "    </tr>\n",
       "    <tr>\n",
       "      <th>3297</th>\n",
       "      <td>40527</td>\n",
       "      <td>91640</td>\n",
       "      <td>0</td>\n",
       "      <td>2016-05-30 09:01:04+00:00</td>\n",
       "      <td>2016-05-30 23:59:59+00:00</td>\n",
       "      <td>2</td>\n",
       "      <td>MARIA ORTIZ</td>\n",
       "      <td>0</td>\n",
       "      <td>0</td>\n",
       "      <td>0</td>\n",
       "      <td>...</td>\n",
       "      <td>0</td>\n",
       "      <td>0</td>\n",
       "      <td>0</td>\n",
       "      <td>0</td>\n",
       "      <td>0</td>\n",
       "      <td>0</td>\n",
       "      <td>0</td>\n",
       "      <td>0</td>\n",
       "      <td>0</td>\n",
       "      <td>0</td>\n",
       "    </tr>\n",
       "    <tr>\n",
       "      <th>...</th>\n",
       "      <td>...</td>\n",
       "      <td>...</td>\n",
       "      <td>...</td>\n",
       "      <td>...</td>\n",
       "      <td>...</td>\n",
       "      <td>...</td>\n",
       "      <td>...</td>\n",
       "      <td>...</td>\n",
       "      <td>...</td>\n",
       "      <td>...</td>\n",
       "      <td>...</td>\n",
       "      <td>...</td>\n",
       "      <td>...</td>\n",
       "      <td>...</td>\n",
       "      <td>...</td>\n",
       "      <td>...</td>\n",
       "      <td>...</td>\n",
       "      <td>...</td>\n",
       "      <td>...</td>\n",
       "      <td>...</td>\n",
       "      <td>...</td>\n",
       "    </tr>\n",
       "    <tr>\n",
       "      <th>110499</th>\n",
       "      <td>59334</td>\n",
       "      <td>98085</td>\n",
       "      <td>0</td>\n",
       "      <td>2016-06-01 09:42:56+00:00</td>\n",
       "      <td>2016-06-01 23:59:59+00:00</td>\n",
       "      <td>66</td>\n",
       "      <td>MARIA ORTIZ</td>\n",
       "      <td>0</td>\n",
       "      <td>1</td>\n",
       "      <td>1</td>\n",
       "      <td>...</td>\n",
       "      <td>0</td>\n",
       "      <td>0</td>\n",
       "      <td>0</td>\n",
       "      <td>0</td>\n",
       "      <td>0</td>\n",
       "      <td>0</td>\n",
       "      <td>0</td>\n",
       "      <td>0</td>\n",
       "      <td>0</td>\n",
       "      <td>0</td>\n",
       "    </tr>\n",
       "    <tr>\n",
       "      <th>110501</th>\n",
       "      <td>5697</td>\n",
       "      <td>98260</td>\n",
       "      <td>1</td>\n",
       "      <td>2016-06-01 10:19:12+00:00</td>\n",
       "      <td>2016-06-01 23:59:59+00:00</td>\n",
       "      <td>44</td>\n",
       "      <td>MARIA ORTIZ</td>\n",
       "      <td>0</td>\n",
       "      <td>0</td>\n",
       "      <td>0</td>\n",
       "      <td>...</td>\n",
       "      <td>0</td>\n",
       "      <td>0</td>\n",
       "      <td>0</td>\n",
       "      <td>0</td>\n",
       "      <td>0</td>\n",
       "      <td>0</td>\n",
       "      <td>0</td>\n",
       "      <td>0</td>\n",
       "      <td>0</td>\n",
       "      <td>0</td>\n",
       "    </tr>\n",
       "    <tr>\n",
       "      <th>110505</th>\n",
       "      <td>37540</td>\n",
       "      <td>98410</td>\n",
       "      <td>0</td>\n",
       "      <td>2016-06-01 10:45:50+00:00</td>\n",
       "      <td>2016-06-01 23:59:59+00:00</td>\n",
       "      <td>55</td>\n",
       "      <td>MARIA ORTIZ</td>\n",
       "      <td>0</td>\n",
       "      <td>0</td>\n",
       "      <td>0</td>\n",
       "      <td>...</td>\n",
       "      <td>0</td>\n",
       "      <td>0</td>\n",
       "      <td>0</td>\n",
       "      <td>0</td>\n",
       "      <td>0</td>\n",
       "      <td>0</td>\n",
       "      <td>0</td>\n",
       "      <td>0</td>\n",
       "      <td>0</td>\n",
       "      <td>0</td>\n",
       "    </tr>\n",
       "    <tr>\n",
       "      <th>110506</th>\n",
       "      <td>9273</td>\n",
       "      <td>98531</td>\n",
       "      <td>1</td>\n",
       "      <td>2016-06-01 11:09:20+00:00</td>\n",
       "      <td>2016-06-01 23:59:59+00:00</td>\n",
       "      <td>5</td>\n",
       "      <td>MARIA ORTIZ</td>\n",
       "      <td>0</td>\n",
       "      <td>0</td>\n",
       "      <td>0</td>\n",
       "      <td>...</td>\n",
       "      <td>0</td>\n",
       "      <td>0</td>\n",
       "      <td>0</td>\n",
       "      <td>0</td>\n",
       "      <td>0</td>\n",
       "      <td>0</td>\n",
       "      <td>0</td>\n",
       "      <td>0</td>\n",
       "      <td>0</td>\n",
       "      <td>0</td>\n",
       "    </tr>\n",
       "    <tr>\n",
       "      <th>110508</th>\n",
       "      <td>46559</td>\n",
       "      <td>98062</td>\n",
       "      <td>0</td>\n",
       "      <td>2016-06-01 09:41:00+00:00</td>\n",
       "      <td>2016-06-01 23:59:59+00:00</td>\n",
       "      <td>59</td>\n",
       "      <td>MARIA ORTIZ</td>\n",
       "      <td>0</td>\n",
       "      <td>0</td>\n",
       "      <td>0</td>\n",
       "      <td>...</td>\n",
       "      <td>0</td>\n",
       "      <td>0</td>\n",
       "      <td>0</td>\n",
       "      <td>0</td>\n",
       "      <td>0</td>\n",
       "      <td>0</td>\n",
       "      <td>0</td>\n",
       "      <td>0</td>\n",
       "      <td>0</td>\n",
       "      <td>0</td>\n",
       "    </tr>\n",
       "  </tbody>\n",
       "</table>\n",
       "<p>545 rows × 109 columns</p>\n",
       "</div>"
      ],
      "text/plain": [
       "        PatientId  AppointmentID  Gender              ScheduledTime  \\\n",
       "3250        23306          95781       0  2016-05-31 11:47:10+00:00   \n",
       "3266        38700          93903       0  2016-05-30 19:25:44+00:00   \n",
       "3294        41570          94241       0  2016-05-31 07:18:33+00:00   \n",
       "3296         9842          91782       0  2016-05-30 09:23:34+00:00   \n",
       "3297        40527          91640       0  2016-05-30 09:01:04+00:00   \n",
       "...           ...            ...     ...                        ...   \n",
       "110499      59334          98085       0  2016-06-01 09:42:56+00:00   \n",
       "110501       5697          98260       1  2016-06-01 10:19:12+00:00   \n",
       "110505      37540          98410       0  2016-06-01 10:45:50+00:00   \n",
       "110506       9273          98531       1  2016-06-01 11:09:20+00:00   \n",
       "110508      46559          98062       0  2016-06-01 09:41:00+00:00   \n",
       "\n",
       "                  AppointmentTime  Age Neighbourhood  Scholarship  \\\n",
       "3250    2016-05-31 23:59:59+00:00   49   MARIA ORTIZ            0   \n",
       "3266    2016-05-31 23:59:59+00:00   24   MARIA ORTIZ            0   \n",
       "3294    2016-05-31 23:59:59+00:00   42   MARIA ORTIZ            0   \n",
       "3296    2016-05-30 23:59:59+00:00   52   MARIA ORTIZ            0   \n",
       "3297    2016-05-30 23:59:59+00:00    2   MARIA ORTIZ            0   \n",
       "...                           ...  ...           ...          ...   \n",
       "110499  2016-06-01 23:59:59+00:00   66   MARIA ORTIZ            0   \n",
       "110501  2016-06-01 23:59:59+00:00   44   MARIA ORTIZ            0   \n",
       "110505  2016-06-01 23:59:59+00:00   55   MARIA ORTIZ            0   \n",
       "110506  2016-06-01 23:59:59+00:00    5   MARIA ORTIZ            0   \n",
       "110508  2016-06-01 23:59:59+00:00   59   MARIA ORTIZ            0   \n",
       "\n",
       "        Hipertension  Diabetes  ...  SANTOS REIS  SEGURANÇA DO LAR  \\\n",
       "3250               0         0  ...            0                 0   \n",
       "3266               0         0  ...            0                 0   \n",
       "3294               0         0  ...            0                 0   \n",
       "3296               0         0  ...            0                 0   \n",
       "3297               0         0  ...            0                 0   \n",
       "...              ...       ...  ...          ...               ...   \n",
       "110499             1         1  ...            0                 0   \n",
       "110501             0         0  ...            0                 0   \n",
       "110505             0         0  ...            0                 0   \n",
       "110506             0         0  ...            0                 0   \n",
       "110508             0         0  ...            0                 0   \n",
       "\n",
       "        SOLON BORGES  SÃO BENEDITO  SÃO CRISTÓVÃO  SÃO JOSÉ  SÃO PEDRO  \\\n",
       "3250               0             0              0         0          0   \n",
       "3266               0             0              0         0          0   \n",
       "3294               0             0              0         0          0   \n",
       "3296               0             0              0         0          0   \n",
       "3297               0             0              0         0          0   \n",
       "...              ...           ...            ...       ...        ...   \n",
       "110499             0             0              0         0          0   \n",
       "110501             0             0              0         0          0   \n",
       "110505             0             0              0         0          0   \n",
       "110506             0             0              0         0          0   \n",
       "110508             0             0              0         0          0   \n",
       "\n",
       "        TABUAZEIRO  UNIVERSITÁRIO  VILA RUBIM  \n",
       "3250             0              0           0  \n",
       "3266             0              0           0  \n",
       "3294             0              0           0  \n",
       "3296             0              0           0  \n",
       "3297             0              0           0  \n",
       "...            ...            ...         ...  \n",
       "110499           0              0           0  \n",
       "110501           0              0           0  \n",
       "110505           0              0           0  \n",
       "110506           0              0           0  \n",
       "110508           0              0           0  \n",
       "\n",
       "[545 rows x 109 columns]"
      ]
     },
     "execution_count": 14,
     "metadata": {},
     "output_type": "execute_result"
    }
   ],
   "source": [
    "df_opti_c"
   ]
  },
  {
   "cell_type": "markdown",
   "id": "2a6c2ad5",
   "metadata": {},
   "source": [
    "### 4. Generate random availability patient"
   ]
  },
  {
   "cell_type": "code",
   "execution_count": 99,
   "id": "cfdd84ad",
   "metadata": {},
   "outputs": [],
   "source": [
    "for i in range(10):\n",
    "    df_opti_c.loc[:,\"Availability_\"+str(i)] = [random.randint(0,49) for n in range(len(df_opti_c))]"
   ]
  },
  {
   "cell_type": "markdown",
   "id": "f48dbf2b",
   "metadata": {},
   "source": [
    "df_opti_c.to_csv(\"data/opti_Maria.csv\")"
   ]
  },
  {
   "cell_type": "markdown",
   "id": "935009fd",
   "metadata": {},
   "source": [
    "### 5. Generate day availability to compare models"
   ]
  },
  {
   "cell_type": "code",
   "execution_count": 100,
   "id": "169c6f81",
   "metadata": {},
   "outputs": [],
   "source": [
    "df_opti_c['AppointmentTime']= pd.to_datetime(df_opti_c['AppointmentTime'])\n",
    "df_opti_c.AppointmentTime = df_opti_c.AppointmentTime.dt.tz_localize(None)\n",
    "for i in range(5):\n",
    "    df_opti_c.loc[:,\"Availability_day_\"+str(i)] = df_opti_c.apply(\n",
    "    lambda row: (row.AppointmentTime - pd.to_datetime(\"2016-05-30\")).days*10 + random.randint(0,9), axis=1)"
   ]
  },
  {
   "cell_type": "markdown",
   "id": "13a8ad50",
   "metadata": {},
   "source": [
    "df_opti_c.to_csv(\"data/opti_Maria.csv\")"
   ]
  },
  {
   "cell_type": "markdown",
   "id": "867d4b9a",
   "metadata": {},
   "source": [
    "### 6. Generate data for predictions (week)"
   ]
  },
  {
   "cell_type": "code",
   "execution_count": 101,
   "id": "26bb7f3c",
   "metadata": {},
   "outputs": [
    {
     "data": {
      "text/plain": [
       "array([2016], dtype=int64)"
      ]
     },
     "execution_count": 101,
     "metadata": {},
     "output_type": "execute_result"
    }
   ],
   "source": [
    "df_opti_c.AppointmentYear.unique()"
   ]
  },
  {
   "cell_type": "code",
   "execution_count": 102,
   "id": "6e006f81",
   "metadata": {},
   "outputs": [],
   "source": [
    "map_matrix = np.zeros((50,3)) #day, month, weekday"
   ]
  },
  {
   "cell_type": "code",
   "execution_count": 103,
   "id": "8ba87d41",
   "metadata": {},
   "outputs": [],
   "source": [
    "map_matrix[:,0] = [30]*10 + [31]*10 + [1]*10 + [2]*10 + [3]*10\n",
    "map_matrix[:,1] = [5]*20 + [6]*30\n",
    "map_matrix[:,2] = [0]*10 + [1]*10 + [2]*10 + [3]*10 + [4]*10"
   ]
  },
  {
   "cell_type": "code",
   "execution_count": 104,
   "id": "004bb95c",
   "metadata": {},
   "outputs": [],
   "source": [
    "newdf = pd.DataFrame(np.repeat(df_opti_c.values[:,:119], 10, axis=0))\n",
    "newdf.columns = df_opti_c.columns[:119]\n",
    "newdf[\"Hour_available\"] = df_opti_c.iloc[:,109:119].to_numpy().flatten()"
   ]
  },
  {
   "cell_type": "code",
   "execution_count": 128,
   "id": "3b405555",
   "metadata": {},
   "outputs": [],
   "source": [
    "newdf[\"AppointmentDay\"] = newdf[\"Hour_available\"].map(lambda x: int(map_matrix[x,0]))\n",
    "newdf[\"AppointmentMonth\"] = newdf[\"Hour_available\"].map(lambda x: int(map_matrix[x,1]))\n",
    "newdf[\"AppointmentWeekDay\"] = newdf[\"Hour_available\"].map(lambda x: int(map_matrix[x,2]))\n",
    "newdf[\"AwaitingTime\"] = (newdf.AppointmentDay - newdf.ScheduledDay)%31"
   ]
  },
  {
   "cell_type": "code",
   "execution_count": 130,
   "id": "6a50cb22",
   "metadata": {},
   "outputs": [],
   "source": [
    "newdf.to_csv(\"data/df_new_week.csv\", index = False)"
   ]
  },
  {
   "cell_type": "code",
   "execution_count": null,
   "id": "bf930588",
   "metadata": {},
   "outputs": [],
   "source": []
  }
 ],
 "metadata": {
  "kernelspec": {
   "display_name": "Python 3",
   "language": "python",
   "name": "python3"
  },
  "language_info": {
   "codemirror_mode": {
    "name": "ipython",
    "version": 3
   },
   "file_extension": ".py",
   "mimetype": "text/x-python",
   "name": "python",
   "nbconvert_exporter": "python",
   "pygments_lexer": "ipython3",
   "version": "3.9.5"
  }
 },
 "nbformat": 4,
 "nbformat_minor": 5
}
