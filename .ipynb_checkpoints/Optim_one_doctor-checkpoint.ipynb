{
 "cells": [
  {
   "cell_type": "code",
   "execution_count": 1,
   "id": "cb03965f",
   "metadata": {},
   "outputs": [],
   "source": [
    "using CSV, DataFrames, Statistics, Clustering, Plots, Random, Gurobi, JuMP, DataStructures, StatsBase"
   ]
  },
  {
   "cell_type": "code",
   "execution_count": 2,
   "id": "c9af8a11",
   "metadata": {},
   "outputs": [],
   "source": [
    "data_prev = CSV.read(\"data/pred_Maria.csv\",DataFrame)\n",
    "data_opti = CSV.read(\"data/opti_Maria.csv\",DataFrame)\n",
    "pred_logistic = CSV.read(\"data/pred_lr.csv\",DataFrame)[:, \"0\"];"
   ]
  },
  {
   "cell_type": "code",
   "execution_count": 3,
   "id": "f7680ddd",
   "metadata": {},
   "outputs": [
    {
     "data": {
      "text/plain": [
       "3"
      ]
     },
     "execution_count": 3,
     "metadata": {},
     "output_type": "execute_result"
    }
   ],
   "source": [
    "#number booked appointments\n",
    "na = nrow(data_prev)\n",
    "#number new appointments\n",
    "nb = nrow(data_opti)\n",
    "ntot = na + nb\n",
    "#number doctors\n",
    "nd = 15\n",
    "#penalty added nurse\n",
    "pen_nurse = 5\n",
    "#penalty hole\n",
    "pen_hole = 3"
   ]
  },
  {
   "cell_type": "code",
   "execution_count": 4,
   "id": "d4f82456",
   "metadata": {},
   "outputs": [],
   "source": [
    "na_1 = Int(floor(na/15))\n",
    "nb_1 = Int(floor(nb/15))\n",
    "ntot_1 = na_1 + nb_1\n",
    "idx_prev = rand(1:na, na_1)\n",
    "idx_opti = rand(1:nb, nb_1)\n",
    "idx_predictions = [idx_prev;idx_opti .+ na]\n",
    "pred_logistic_1 = pred_logistic[idx_predictions]\n",
    "data_prev_1 = data_prev[idx_prev,:]\n",
    "data_opti_1 = data_opti[idx_opti,:];"
   ]
  },
  {
   "cell_type": "code",
   "execution_count": 33,
   "id": "3b890afe",
   "metadata": {},
   "outputs": [],
   "source": [
    "#previously_booked\n",
    "s = data_prev_1.slot .+1 ;\n",
    "#available\n",
    "a = Matrix(data_opti_1[:,121:125]);"
   ]
  },
  {
   "cell_type": "code",
   "execution_count": 35,
   "id": "cee30d3a",
   "metadata": {},
   "outputs": [
    {
     "data": {
      "text/plain": [
       "optim_add_nurse_hole (generic function with 1 method)"
      ]
     },
     "execution_count": 35,
     "metadata": {},
     "output_type": "execute_result"
    }
   ],
   "source": [
    "function optim_add_nurse_hole(p)\n",
    "    model = Model(with_optimizer(Gurobi.Optimizer, TimeLimit=180))\n",
    "    set_optimizer_attribute(model, \"OutputFlag\", 0)\n",
    "\n",
    "    @variable(model, x[1:ntot_1, 1:50], Bin)\n",
    "    @variable(model, t[1:50])\n",
    "    @variable(model, u[1:50])\n",
    "\n",
    "    @objective(model, Min, sum(t)*pen_nurse + sum(u)*pen_hole)\n",
    "\n",
    "    @constraint(model, [j=1:50], t[j] >= sum(x[i,j]*p[i,j] for i=1:ntot_1) - nd) \n",
    "    @constraint(model, [j=1:50], t[j] >= 0)\n",
    "\n",
    "    for d=1:5\n",
    "        for j=2:9\n",
    "            h = (d-1)*10 + j\n",
    "            #@constraint(model, u[h] >= sum(p[i,h]*x[i,h] for i=1:ntot_1) - min(sum(p[i,h-1]*x[i,h-1] for i=1:ntot_1), sum(p[i,h+1]*x[i,h+1] for i=1:ntot_1)))\n",
    "            @constraint(model, u[h] >= - sum(p[i,h]*x[i,h] for i=1:ntot_1) + sum(p[i,h-1]*x[i,h-1] for i=1:ntot_1))\n",
    "            @constraint(model, u[h] >= - sum(p[i,h]*x[i,h] for i=1:ntot_1) + sum(p[i,h+1]*x[i,h+1] for i=1:ntot_1))\n",
    "            @constraint(model, u[h] >= 0)\n",
    "        end\n",
    "            @constraint(model, u[(d-1)*10 + 10] == 0)\n",
    "            @constraint(model, u[(d-1)*10 + 1] == 0)\n",
    "    end\n",
    "\n",
    "    for i=1:na_1\n",
    "        for j=1:50\n",
    "            if s[i]==j\n",
    "                @constraint(model, x[i,j] == 1)\n",
    "            else\n",
    "                @constraint(model, x[i,j] == 0)\n",
    "            end\n",
    "        end\n",
    "    end\n",
    "\n",
    "    for i=na_1+1:ntot_1\n",
    "        for j=1:50\n",
    "            if j in a[i-na_1,:]\n",
    "            else\n",
    "                @constraint(model, x[i,j] == 0)\n",
    "            end\n",
    "        end\n",
    "    end\n",
    "\n",
    "    @constraint(model, [i=1:ntot_1], sum(x[i,j] for j=1:50) == 1)\n",
    "\n",
    "\n",
    "    optimize!(model)\n",
    "    return objective_value(model), JuMP.value.(x)\n",
    "end"
   ]
  },
  {
   "cell_type": "code",
   "execution_count": 36,
   "id": "a20738c7",
   "metadata": {},
   "outputs": [],
   "source": [
    "p_oracle = ones(ntot_1,50)\n",
    "for i = 1:na_1\n",
    "    for j=1:50\n",
    "        p_oracle[i,j] = 1 - data_prev_1.NoShow[i]\n",
    "    end\n",
    "end\n",
    "for i = na_1+1:ntot_1\n",
    "    for j=1:50\n",
    "        p_oracle[i,j] = 1 - data_opti_1.NoShow[i-na_1]\n",
    "    end\n",
    "end"
   ]
  },
  {
   "cell_type": "code",
   "execution_count": 37,
   "id": "e3050bd9",
   "metadata": {},
   "outputs": [
    {
     "name": "stdout",
     "output_type": "stream",
     "text": [
      "Academic license - for non-commercial use only - expires 2022-08-18\r\n"
     ]
    },
    {
     "data": {
      "text/plain": [
       "32.999997598425566"
      ]
     },
     "execution_count": 37,
     "metadata": {},
     "output_type": "execute_result"
    }
   ],
   "source": [
    "o, x_o = optim_add_nurse_hole(p_oracle)\n",
    "o"
   ]
  },
  {
   "cell_type": "code",
   "execution_count": 38,
   "id": "196d14b3",
   "metadata": {},
   "outputs": [
    {
     "name": "stdout",
     "output_type": "stream",
     "text": [
      "Academic license - for non-commercial use only - expires 2022-08-18\r\n"
     ]
    },
    {
     "data": {
      "text/plain": [
       "(22.31723943561837, [0.0 0.0 … 0.0 0.0; 0.0 0.0 … 0.0 0.0; … ; 0.0 0.0 … 0.0 0.0; 0.0 0.0 … 0.0 0.0])"
      ]
     },
     "execution_count": 38,
     "metadata": {},
     "output_type": "execute_result"
    }
   ],
   "source": [
    "p_random = rand(ntot_1, 50);\n",
    "_, x_r = optim_add_nurse_hole(p_random)"
   ]
  },
  {
   "cell_type": "code",
   "execution_count": 39,
   "id": "3d2afcb7",
   "metadata": {},
   "outputs": [],
   "source": [
    "p_logistic = ones(ntot,50)\n",
    "for i = 1:na\n",
    "    for j=1:50\n",
    "        p_logistic[i,j] = 1 - pred_logistic[i]\n",
    "    end\n",
    "end\n",
    "for i = na+1:ntot\n",
    "    for j=1:50\n",
    "        p_logistic[i,j] = 1 - pred_logistic[i-na]\n",
    "    end\n",
    "end"
   ]
  },
  {
   "cell_type": "code",
   "execution_count": 40,
   "id": "fde52141",
   "metadata": {},
   "outputs": [
    {
     "name": "stdout",
     "output_type": "stream",
     "text": [
      "Academic license - for non-commercial use only - expires 2022-08-18\r\n"
     ]
    },
    {
     "data": {
      "text/plain": [
       "(26.970998209543797, [0.0 0.0 … 0.0 0.0; 0.0 0.0 … 0.0 0.0; … ; 0.0 0.0 … 0.0 0.0; 0.0 0.0 … 0.0 0.0])"
      ]
     },
     "execution_count": 40,
     "metadata": {},
     "output_type": "execute_result"
    }
   ],
   "source": [
    "_, x_l = optim_add_nurse_hole(p_logistic)"
   ]
  },
  {
   "cell_type": "markdown",
   "id": "a8ea9d37",
   "metadata": {},
   "source": [
    "### Comparison of schedules"
   ]
  },
  {
   "cell_type": "code",
   "execution_count": 41,
   "id": "35136be7",
   "metadata": {},
   "outputs": [
    {
     "data": {
      "text/plain": [
       "10×5 Matrix{Float64}:\n",
       " 1.0  0.0  0.0  1.0  1.0\n",
       " 2.0  1.0  2.0  2.0  2.0\n",
       " 2.0  1.0  2.0  2.0  3.0\n",
       " 2.0  1.0  2.0  2.0  2.0\n",
       " 2.0  2.0  2.0  1.0  1.0\n",
       " 1.0  1.0  2.0  1.0  1.0\n",
       " 2.0  1.0  2.0  2.0  1.0\n",
       " 2.0  1.0  2.0  1.0  1.0\n",
       " 2.0  1.0  2.0  2.0  1.0\n",
       " 0.0  2.0  0.0  3.0  1.0"
      ]
     },
     "execution_count": 41,
     "metadata": {},
     "output_type": "execute_result"
    }
   ],
   "source": [
    "s_logistic = reshape(sum(x_l[i,:] for i=1:ntot_1), (10,5))"
   ]
  },
  {
   "cell_type": "code",
   "execution_count": null,
   "id": "0d0ec120",
   "metadata": {},
   "outputs": [],
   "source": [
    "heatmap(s_logistic)"
   ]
  },
  {
   "cell_type": "code",
   "execution_count": null,
   "id": "903a6a0c",
   "metadata": {},
   "outputs": [],
   "source": [
    "s_logistic_show = reshape([sum(x_l[i,j]*p_oracle[i,j] for i=1:ntot_1) for j=1:50], (10,5));"
   ]
  },
  {
   "cell_type": "code",
   "execution_count": null,
   "id": "58368e16",
   "metadata": {
    "scrolled": true
   },
   "outputs": [],
   "source": [
    "heatmap(s_logistic_show)"
   ]
  },
  {
   "cell_type": "code",
   "execution_count": null,
   "id": "79a693c6",
   "metadata": {},
   "outputs": [],
   "source": [
    "s_o = reshape(sum(x_o[i,:] for i=1:ntot_1), (10,5))"
   ]
  },
  {
   "cell_type": "code",
   "execution_count": null,
   "id": "ecb9d6bf",
   "metadata": {},
   "outputs": [],
   "source": [
    "heatmap(s_o)"
   ]
  },
  {
   "cell_type": "code",
   "execution_count": null,
   "id": "8141aadf",
   "metadata": {},
   "outputs": [],
   "source": [
    "s_o_show = reshape([sum(x_o[i,j]*p_oracle[i,j] for i=1:ntot_1) for j=1:50], (10,5));"
   ]
  },
  {
   "cell_type": "code",
   "execution_count": null,
   "id": "54b837df",
   "metadata": {},
   "outputs": [],
   "source": [
    "heatmap(s_o_show)"
   ]
  },
  {
   "cell_type": "code",
   "execution_count": null,
   "id": "375f2f7f",
   "metadata": {},
   "outputs": [],
   "source": [
    "s_random = reshape(sum(x_r[i,:] for i=1:ntot_1), (10,5))\n",
    "s_random_show = reshape([sum(x_r[i,j]*p_oracle[i,j] for i=1:ntot_1) for j=1:50], (10,5));"
   ]
  },
  {
   "cell_type": "code",
   "execution_count": null,
   "id": "4c96cbec",
   "metadata": {},
   "outputs": [],
   "source": [
    "heatmap(s_random_show)"
   ]
  },
  {
   "cell_type": "code",
   "execution_count": null,
   "id": "7504468f",
   "metadata": {},
   "outputs": [],
   "source": []
  },
  {
   "cell_type": "code",
   "execution_count": null,
   "id": "99fc64f6",
   "metadata": {},
   "outputs": [],
   "source": []
  }
 ],
 "metadata": {
  "kernelspec": {
   "display_name": "Julia 1.6.2",
   "language": "julia",
   "name": "julia-1.6"
  },
  "language_info": {
   "file_extension": ".jl",
   "mimetype": "application/julia",
   "name": "julia",
   "version": "1.6.2"
  }
 },
 "nbformat": 4,
 "nbformat_minor": 5
}
