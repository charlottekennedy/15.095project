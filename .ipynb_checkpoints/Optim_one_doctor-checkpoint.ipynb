{
 "cells": [
  {
   "cell_type": "code",
   "execution_count": 1,
   "id": "2f740f19",
   "metadata": {},
   "outputs": [],
   "source": [
    "using CSV, DataFrames, Statistics, Clustering, Plots, Random, Gurobi, JuMP, DataStructures, StatsBase"
   ]
  },
  {
   "cell_type": "code",
   "execution_count": 2,
   "id": "7847ac76",
   "metadata": {},
   "outputs": [],
   "source": [
    "data_prev = CSV.read(\"data/pred_Maria.csv\",DataFrame)\n",
    "data_opti = CSV.read(\"data/opti_Maria.csv\",DataFrame)\n",
    "data_logistic = CSV.read(\"data/opti_Maria.csv\",DataFrame)\n",
    "pred_logistic = CSV.read(\"data/pred_lr.csv\",DataFrame)[:, \"0\"];"
   ]
  },
  {
   "cell_type": "code",
   "execution_count": 26,
   "id": "d8658a4b",
   "metadata": {},
   "outputs": [
    {
     "data": {
      "text/plain": [
       "3"
      ]
     },
     "execution_count": 26,
     "metadata": {},
     "output_type": "execute_result"
    }
   ],
   "source": [
    "#number booked appointments\n",
    "na = nrow(data_prev)\n",
    "#number new appointments\n",
    "nb = nrow(data_opti)\n",
    "ntot = na + nb\n",
    "#number doctors\n",
    "nd = 15\n",
    "#penalty added nurse\n",
    "pen_nurse = 5\n",
    "#penalty hole\n",
    "pen_hole = 3"
   ]
  },
  {
   "cell_type": "code",
   "execution_count": 31,
   "id": "c63fdb79",
   "metadata": {},
   "outputs": [],
   "source": [
    "na_1 = Int(floor(na/15))\n",
    "nb_1 = Int(floor(nb/15))\n",
    "ntot_1 = na_1 + nb_1\n",
    "idx_prev = rand(1:na, na_1)\n",
    "idx_opti = rand(1:nb, nb_1)\n",
    "data_logistic_1 = data_logistic[rand(1:na, na_1),:]\n",
    "data_prev_1 = data_prev[idx_prev,:]\n",
    "data_opti_1 = data_opti[idx_opti,:];"
   ]
  },
  {
   "cell_type": "code",
   "execution_count": 32,
   "id": "1615d1ed",
   "metadata": {},
   "outputs": [],
   "source": [
    "#previously_booked\n",
    "s = data_prev_1.slot .+1 ;\n",
    "#available\n",
    "a = Matrix(data_opti_1[:,41:45]);"
   ]
  },
  {
   "cell_type": "code",
   "execution_count": 56,
   "id": "0bb31611",
   "metadata": {},
   "outputs": [
    {
     "data": {
      "text/plain": [
       "optim_add_nurse_hole (generic function with 1 method)"
      ]
     },
     "execution_count": 56,
     "metadata": {},
     "output_type": "execute_result"
    }
   ],
   "source": [
    "function optim_add_nurse_hole(p)\n",
    "    model = Model(with_optimizer(Gurobi.Optimizer, TimeLimit=180))\n",
    "    set_optimizer_attribute(model, \"OutputFlag\", 0)\n",
    "\n",
    "    @variable(model, x[1:ntot_1, 1:50], Bin)\n",
    "    @variable(model, t[1:50])\n",
    "    @variable(model, u[1:50])\n",
    "\n",
    "    @objective(model, Min, sum(t)*pen_nurse + sum(u)*pen_hole)\n",
    "\n",
    "    @constraint(model, [j=1:50], t[j] >= sum(x[i,j]*p[i,j] for i=1:ntot_1) - nd) \n",
    "    @constraint(model, [j=1:50], t[j] >= 0)\n",
    "\n",
    "    for d=1:5\n",
    "        for j=2:9\n",
    "            h = (d-1)*10 + j\n",
    "            #@constraint(model, u[h] >= sum(p[i,h]*x[i,h] for i=1:ntot_1) - min(sum(p[i,h-1]*x[i,h-1] for i=1:ntot_1), sum(p[i,h+1]*x[i,h+1] for i=1:ntot_1)))\n",
    "            @constraint(model, u[h] >= sum(p[i,h]*x[i,h] for i=1:ntot_1) - sum(p[i,h-1]*x[i,h-1] for i=1:ntot_1))\n",
    "            @constraint(model, u[h] >= sum(p[i,h]*x[i,h] for i=1:ntot_1) - sum(p[i,h+1]*x[i,h+1] for i=1:ntot_1))\n",
    "            @constraint(model, u[h] >= 0)\n",
    "        end\n",
    "            @constraint(model, u[(d-1)*10 + 10] == 0)\n",
    "            @constraint(model, u[(d-1)*10 + 1] == 0)\n",
    "    end\n",
    "\n",
    "    for i=1:na_1\n",
    "        for j=1:50\n",
    "            if s[i]==j\n",
    "                @constraint(model, x[i,j] == 1)\n",
    "            else\n",
    "                @constraint(model, x[i,j] == 0)\n",
    "            end\n",
    "        end\n",
    "    end\n",
    "\n",
    "    for i=na_1+1:ntot_1\n",
    "        for j=1:50\n",
    "            if j in a[i-na_1,:]\n",
    "            else\n",
    "                @constraint(model, x[i,j] == 0)\n",
    "            end\n",
    "        end\n",
    "    end\n",
    "\n",
    "    @constraint(model, [i=1:ntot_1], sum(x[i,j] for j=1:50) == 1)\n",
    "\n",
    "\n",
    "    optimize!(model)\n",
    "    return objective_value(model), JuMP.value.(x)\n",
    "end"
   ]
  },
  {
   "cell_type": "code",
   "execution_count": 57,
   "id": "af7169af",
   "metadata": {},
   "outputs": [],
   "source": [
    "p_oracle = ones(ntot_1,50)\n",
    "for i = 1:na_1\n",
    "    for j=1:50\n",
    "        p_oracle[i,j] = 1 - data_prev_1.NoShow[i]\n",
    "    end\n",
    "end\n",
    "for i = na_1+1:ntot_1\n",
    "    for j=1:50\n",
    "        p_oracle[i,j] = 1 - data_opti_1.NoShow[i-na_1]\n",
    "    end\n",
    "end"
   ]
  },
  {
   "cell_type": "code",
   "execution_count": 58,
   "id": "e822c273",
   "metadata": {},
   "outputs": [
    {
     "name": "stdout",
     "output_type": "stream",
     "text": [
      "Academic license - for non-commercial use only - expires 2022-08-18\r\n"
     ]
    },
    {
     "data": {
      "text/plain": [
       "39.0"
      ]
     },
     "execution_count": 58,
     "metadata": {},
     "output_type": "execute_result"
    }
   ],
   "source": [
    "o, _ = optim_add_nurse_hole(p_oracle)\n",
    "o"
   ]
  },
  {
   "cell_type": "code",
   "execution_count": 61,
   "id": "c6c288f1",
   "metadata": {},
   "outputs": [
    {
     "name": "stdout",
     "output_type": "stream",
     "text": [
      "Academic license - for non-commercial use only - expires 2022-08-18\r\n"
     ]
    },
    {
     "data": {
      "text/plain": [
       "0.0"
      ]
     },
     "execution_count": 61,
     "metadata": {},
     "output_type": "execute_result"
    }
   ],
   "source": [
    "p_random = rand(ntot_1, 50);\n",
    "_, x_r = optim_add_nurse_hole(p_random)"
   ]
  },
  {
   "cell_type": "code",
   "execution_count": null,
   "id": "764dd9c9",
   "metadata": {},
   "outputs": [],
   "source": [
    "p_logistic = ones(ntot,50)\n",
    "for i = 1:na\n",
    "    for j=1:50\n",
    "        p_logistic[i,j] = 1 - pred_logistic[i]\n",
    "    end\n",
    "end\n",
    "for i = na+1:ntot\n",
    "    for j=1:50\n",
    "        p_logistic[i,j] = 1 - pred_logistic[i-na]\n",
    "    end\n",
    "end"
   ]
  }
 ],
 "metadata": {
  "kernelspec": {
   "display_name": "Julia 1.6.2",
   "language": "julia",
   "name": "julia-1.6"
  },
  "language_info": {
   "file_extension": ".jl",
   "mimetype": "application/julia",
   "name": "julia",
   "version": "1.6.2"
  }
 },
 "nbformat": 4,
 "nbformat_minor": 5
}
