{
 "cells": [
  {
   "cell_type": "code",
   "execution_count": null,
   "id": "e2dab28f",
   "metadata": {},
   "outputs": [],
   "source": [
    "using CSV, DataFrames, Random, ScikitLearn, Plots, CategoricalArrays, Statistics"
   ]
  },
  {
   "cell_type": "code",
   "execution_count": null,
   "id": "99fd3bc3",
   "metadata": {},
   "outputs": [],
   "source": [
    "data = CSV.read(\"data/data_train.csv\",DataFrame)[:,1:30];"
   ]
  },
  {
   "cell_type": "code",
   "execution_count": null,
   "id": "3e887a2b",
   "metadata": {},
   "outputs": [],
   "source": [
    "X = select(data, Not([:ScheduledTime, :AppointmentTime, :NoShow, :SMS_received]))\n",
    "treatment = data[:,:SMS_received]\n",
    "y = data[:,:NoShow];"
   ]
  },
  {
   "cell_type": "code",
   "execution_count": null,
   "id": "8fe5c203",
   "metadata": {},
   "outputs": [],
   "source": [
    "Random.seed!(1);\n",
    "(train_X, train_treatments, train_outcomes), (test_X, test_treatments, test_outcomes) = IAI.split_data(\"policy_minimize\", X, treatment, y,  train_proportion=0.6, seed=1);"
   ]
  },
  {
   "cell_type": "code",
   "execution_count": null,
   "id": "42f0a760",
   "metadata": {},
   "outputs": [],
   "source": [
    "treatment_candidates = [0,1]"
   ]
  },
  {
   "cell_type": "code",
   "execution_count": null,
   "id": "b32657e8",
   "metadata": {},
   "outputs": [],
   "source": [
    "reward_lnr = IAI.CategoricalClassificationRewardEstimator(\n",
    "    propensity_estimator=IAI.RandomForestClassifier(),\n",
    "    outcome_estimator=IAI.RandomForestClassifier(),\n",
    "    reward_estimator=\"doubly_robust\",\n",
    "    random_seed=123,\n",
    ")\n",
    "\n",
    "train_rewards, train_reward_score = IAI.fit_predict!(reward_lnr, train_X, train_treatments, train_outcomes,\n",
    "    propensity_score_criterion=:auc, outcome_score_criterion=:auc)\n",
    "#train_rewards, train_reward_score = reward_lnr.fit_predict(\n",
    "  #  train_X, train_treatments, train_outcomes,\n",
    "  #  propensity_score_criterion=:AUC, outcome_score_criterion=:AUC)\n",
    "#train_rewards"
   ]
  },
  {
   "cell_type": "code",
   "execution_count": null,
   "id": "8227689e",
   "metadata": {},
   "outputs": [],
   "source": [
    "train_reward_score"
   ]
  },
  {
   "cell_type": "code",
   "execution_count": null,
   "id": "3477a96d",
   "metadata": {},
   "outputs": [],
   "source": [
    "grid = IAI.GridSearch(\n",
    "    IAI.OptimalTreePolicyMaximizer(\n",
    "        random_seed=121,\n",
    "        max_categoric_levels_before_warning=20,\n",
    "    ),\n",
    "    max_depth=1:4,\n",
    ")\n",
    "\n",
    "IAI.fit!(grid, train_X, train_rewards)\n",
    "policy = IAI.get_learner(grid)"
   ]
  },
  {
   "cell_type": "code",
   "execution_count": null,
   "id": "e56cf86c",
   "metadata": {},
   "outputs": [],
   "source": [
    "policy"
   ]
  },
  {
   "cell_type": "code",
   "execution_count": null,
   "id": "cff7800a",
   "metadata": {},
   "outputs": [],
   "source": [
    "test_rewards, test_reward_score = IAI.fit_predict!(reward_lnr, test_X, test_treatments, test_outcomes,\n",
    "    propensity_score_criterion=:auc, outcome_score_criterion=:auc)"
   ]
  },
  {
   "cell_type": "code",
   "execution_count": null,
   "id": "1fd8e620",
   "metadata": {},
   "outputs": [],
   "source": [
    "test_reward_score"
   ]
  },
  {
   "cell_type": "code",
   "execution_count": null,
   "id": "c9e5c603",
   "metadata": {},
   "outputs": [],
   "source": [
    "policy_outcomes = IAI.predict_outcomes(grid, test_X, test_rewards)"
   ]
  },
  {
   "cell_type": "code",
   "execution_count": null,
   "id": "74d92ee3",
   "metadata": {},
   "outputs": [],
   "source": [
    "mean(policy_outcomes)"
   ]
  },
  {
   "cell_type": "code",
   "execution_count": null,
   "id": "a5031b5f",
   "metadata": {},
   "outputs": [],
   "source": [
    "mean([test_rewards[:, test_treatments[i] + 1][i] for i=1:length(test_treatments)])"
   ]
  },
  {
   "cell_type": "code",
   "execution_count": null,
   "id": "fb59e108",
   "metadata": {},
   "outputs": [],
   "source": []
  }
 ],
 "metadata": {
  "kernelspec": {
   "display_name": "Julia 1.6.2",
   "language": "julia",
   "name": "julia-1.6"
  },
  "language_info": {
   "file_extension": ".jl",
   "mimetype": "application/julia",
   "name": "julia",
   "version": "1.6.2"
  }
 },
 "nbformat": 4,
 "nbformat_minor": 5
}
