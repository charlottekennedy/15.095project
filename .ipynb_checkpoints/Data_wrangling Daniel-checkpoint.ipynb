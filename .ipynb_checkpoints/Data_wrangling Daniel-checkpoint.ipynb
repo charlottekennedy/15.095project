{
 "cells": [
  {
   "cell_type": "code",
   "execution_count": 46,
   "id": "4e7b18bf",
   "metadata": {},
   "outputs": [],
   "source": [
    "import pandas as pd\n",
    "import numpy as np\n",
    "from sklearn import preprocessing\n",
    "import random"
   ]
  },
  {
   "cell_type": "code",
   "execution_count": 140,
   "id": "5fc8aef3",
   "metadata": {},
   "outputs": [],
   "source": [
    "data = pd.read_csv(\"data/KaggleV2-May-2016.csv\")"
   ]
  },
  {
   "cell_type": "code",
   "execution_count": 141,
   "id": "ada62fac",
   "metadata": {},
   "outputs": [],
   "source": [
    "data['No-show'] = data['No-show'].map({'No':0, 'Yes':1})"
   ]
  },
  {
   "cell_type": "code",
   "execution_count": 142,
   "id": "10610453",
   "metadata": {},
   "outputs": [],
   "source": [
    "random.seed(42)\n",
    "ind = pd.Index(np.arange(9,19), name = 'hour')\n",
    "n = len(ind)\n",
    "prob = pd.Series(np.random.normal(1/n, 0, n), index = ind, name = 'probability')"
   ]
  },
  {
   "cell_type": "code",
   "execution_count": 143,
   "id": "f1bcb53b",
   "metadata": {},
   "outputs": [],
   "source": [
    "age  =  pd.Series([1, 0.98, 0.9, 0.725, 0.5, 0.275, 0.15, 0.0751, 0.02, 0], index = ind) / 1000\n",
    "show = pd.Series([1, 0.8, 0.2, 0.08, 0, 0, 0.08, 0.2, 0.8, 1], index = ind) / 40\n",
    "age  = age - age.mean()\n",
    "show = show - show.mean()"
   ]
  },
  {
   "cell_type": "code",
   "execution_count": 144,
   "id": "a455007e",
   "metadata": {},
   "outputs": [],
   "source": [
    "data['hour'] = np.nan\n",
    "\n",
    "for i in range(len(data)):\n",
    "    \n",
    "    p = prob + (data.loc[i, 'Age'] - 42) * age + (data.loc[i, 'No-show'] - 0.2) * show\n",
    "    data.loc[i, 'hour'] = np.random.choice(ind, p = p)"
   ]
  },
  {
   "cell_type": "code",
   "execution_count": 148,
   "id": "7bfce31a",
   "metadata": {},
   "outputs": [
    {
     "data": {
      "text/plain": [
       "<AxesSubplot:>"
      ]
     },
     "execution_count": 148,
     "metadata": {},
     "output_type": "execute_result"
    },
    {
     "data": {
      "image/png": "[encoded data removed]",
      "text/plain": [
       "<Figure size 720x504 with 1 Axes>"
      ]
     },
     "metadata": {
      "needs_background": "light"
     },
     "output_type": "display_data"
    }
   ],
   "source": [
    "d = [data[(data['Age'] >= 70) & (data['Age'] <= 80)& (data['No-show'] == 0)]['hour'],\n",
    "     data[(data['Age'] >= 70) & (data['Age'] <= 80)& (data['No-show'] == 1)]['hour']]\n",
    "\n",
    "d[0].astype(int).hist(grid = False, bins = np.arange(9,20), figsize = (10,7), alpha = 0.7, color = '#299299')\n",
    "d[1].astype(int).hist(grid = False, bins = np.arange(9,20), figsize = (10,7), alpha = 0.7, color = '#9c1e1e')"
   ]
  },
  {
   "cell_type": "code",
   "execution_count": 118,
   "id": "e6a15c8e",
   "metadata": {},
   "outputs": [
    {
     "data": {
      "text/plain": [
       "0    88208\n",
       "1    22319\n",
       "Name: No-show, dtype: int64"
      ]
     },
     "execution_count": 118,
     "metadata": {},
     "output_type": "execute_result"
    }
   ],
   "source": [
    "data['hour'].bar()"
   ]
  },
  {
   "cell_type": "markdown",
   "id": "7c7dea97",
   "metadata": {},
   "source": [
    "### Observations"
   ]
  },
  {
   "cell_type": "code",
   "execution_count": 79,
   "id": "d4820552",
   "metadata": {},
   "outputs": [
    {
     "data": {
      "text/plain": [
       "(3539, 1, 110527)"
      ]
     },
     "execution_count": 79,
     "metadata": {},
     "output_type": "execute_result"
    }
   ],
   "source": [
    "len(data[data[\"Age\"] == 0]),len(data[data[\"Age\"] < 0]), len(data)"
   ]
  },
  {
   "cell_type": "markdown",
   "id": "e674ac8a",
   "metadata": {},
   "source": [
    "--> some irregularities in age : when unknown, =0?"
   ]
  },
  {
   "cell_type": "markdown",
   "id": "f14b022a",
   "metadata": {},
   "source": [
    "### Data cleaning"
   ]
  },
  {
   "cell_type": "markdown",
   "id": "597e8b00",
   "metadata": {},
   "source": [
    "##### Awaiting Days"
   ]
  },
  {
   "cell_type": "code",
   "execution_count": 80,
   "id": "82333c36",
   "metadata": {},
   "outputs": [],
   "source": [
    "data.ScheduledDay = pd.to_datetime(data.ScheduledDay)\n",
    "data.AppointmentDay = pd.to_datetime(data.AppointmentDay)"
   ]
  },
  {
   "cell_type": "code",
   "execution_count": 81,
   "id": "83be5b7c",
   "metadata": {},
   "outputs": [],
   "source": [
    "data[data.ScheduledDay > data.AppointmentDay]\n",
    "data['AppointmentDay'] = data['AppointmentDay'] + pd.Timedelta('1d') - pd.Timedelta('1s')\n",
    "#pb for same day registration"
   ]
  },
  {
   "cell_type": "code",
   "execution_count": 82,
   "id": "19c9f5a6",
   "metadata": {},
   "outputs": [],
   "source": [
    "data['AwaitingTime'] = (data.AppointmentDay - data.ScheduledDay).dt.days"
   ]
  },
  {
   "cell_type": "markdown",
   "id": "1f78698c",
   "metadata": {},
   "source": [
    "##### Missed appointments"
   ]
  },
  {
   "cell_type": "code",
   "execution_count": 83,
   "id": "8e348575",
   "metadata": {},
   "outputs": [
    {
     "data": {
      "text/plain": [
       "62299"
      ]
     },
     "execution_count": 83,
     "metadata": {},
     "output_type": "execute_result"
    }
   ],
   "source": [
    "len(pd.unique(data.PatientId))"
   ]
  },
  {
   "cell_type": "code",
   "execution_count": 84,
   "id": "0411d7ff",
   "metadata": {},
   "outputs": [
    {
     "data": {
      "text/plain": [
       "110527"
      ]
     },
     "execution_count": 84,
     "metadata": {},
     "output_type": "execute_result"
    }
   ],
   "source": [
    "len(data)"
   ]
  },
  {
   "cell_type": "code",
   "execution_count": 85,
   "id": "27584213",
   "metadata": {},
   "outputs": [],
   "source": [
    "mask = data.PatientId%1 != 0\n",
    "data.loc[mask, \"PatientId\"] *= 100000"
   ]
  },
  {
   "cell_type": "code",
   "execution_count": 86,
   "id": "e3f578c3",
   "metadata": {},
   "outputs": [],
   "source": [
    "data.PatientId = data.PatientId - min(data.PatientId)"
   ]
  },
  {
   "cell_type": "code",
   "execution_count": 95,
   "id": "adc9fa78",
   "metadata": {},
   "outputs": [],
   "source": [
    "le = preprocessing.LabelEncoder()\n",
    "trained_le = le.fit(data.PatientId)\n",
    "data.PatientId = trained_le.transform(data.PatientId)"
   ]
  },
  {
   "cell_type": "code",
   "execution_count": 109,
   "id": "c70026b9",
   "metadata": {},
   "outputs": [
    {
     "data": {
      "text/plain": [
       "62298"
      ]
     },
     "execution_count": 109,
     "metadata": {},
     "output_type": "execute_result"
    }
   ],
   "source": [
    "max(data.PatientId)"
   ]
  },
  {
   "cell_type": "code",
   "execution_count": 127,
   "id": "66ec93cb",
   "metadata": {},
   "outputs": [],
   "source": [
    "# number of previous appointments in May\n",
    "for i in range(max(data.PatientId)+1):\n",
    "    mask = data.PatientId == i\n",
    "    data.loc[mask, \"NbPrevious\"] = range(sum(mask))"
   ]
  },
  {
   "cell_type": "code",
   "execution_count": 138,
   "id": "bbf65087",
   "metadata": {},
   "outputs": [],
   "source": [
    "data.to_csv(\"data/df_new.csv\", index= False)"
   ]
  },
  {
   "cell_type": "code",
   "execution_count": 139,
   "id": "442b4d89",
   "metadata": {},
   "outputs": [],
   "source": [
    "data = pd.read_csv(\"data/df_new.csv\")"
   ]
  },
  {
   "cell_type": "code",
   "execution_count": 141,
   "id": "bd472fee",
   "metadata": {},
   "outputs": [],
   "source": [
    "# proportion of no-show"
   ]
  },
  {
   "cell_type": "code",
   "execution_count": 149,
   "id": "17dd6937",
   "metadata": {},
   "outputs": [],
   "source": [
    "data = data.rename(columns={\"No-show\": \"NoShow\"});"
   ]
  },
  {
   "cell_type": "code",
   "execution_count": 153,
   "id": "3740df4f",
   "metadata": {},
   "outputs": [],
   "source": [
    "data.loc[(data.NoShow == 'No'),'NoShow']= 0\n",
    "data.loc[(data.NoShow == 'Yes'),'NoShow']= 1"
   ]
  },
  {
   "cell_type": "code",
   "execution_count": 154,
   "id": "130b2c4d",
   "metadata": {},
   "outputs": [
    {
     "data": {
      "text/html": [
       "<div>\n",
       "<style scoped>\n",
       "    .dataframe tbody tr th:only-of-type {\n",
       "        vertical-align: middle;\n",
       "    }\n",
       "\n",
       "    .dataframe tbody tr th {\n",
       "        vertical-align: top;\n",
       "    }\n",
       "\n",
       "    .dataframe thead th {\n",
       "        text-align: right;\n",
       "    }\n",
       "</style>\n",
       "<table border=\"1\" class=\"dataframe\">\n",
       "  <thead>\n",
       "    <tr style=\"text-align: right;\">\n",
       "      <th></th>\n",
       "      <th>Unnamed: 0</th>\n",
       "      <th>PatientId</th>\n",
       "      <th>AppointmentID</th>\n",
       "      <th>Gender</th>\n",
       "      <th>ScheduledDay</th>\n",
       "      <th>AppointmentDay</th>\n",
       "      <th>Age</th>\n",
       "      <th>Neighbourhood</th>\n",
       "      <th>Scholarship</th>\n",
       "      <th>Hipertension</th>\n",
       "      <th>Diabetes</th>\n",
       "      <th>Alcoholism</th>\n",
       "      <th>Handcap</th>\n",
       "      <th>SMS_received</th>\n",
       "      <th>NoShow</th>\n",
       "      <th>AwaitingTime</th>\n",
       "      <th>NbPrevious</th>\n",
       "    </tr>\n",
       "  </thead>\n",
       "  <tbody>\n",
       "    <tr>\n",
       "      <th>0</th>\n",
       "      <td>0</td>\n",
       "      <td>30845</td>\n",
       "      <td>5642903</td>\n",
       "      <td>F</td>\n",
       "      <td>2016-04-29 18:38:08+00:00</td>\n",
       "      <td>2016-04-29 23:59:59+00:00</td>\n",
       "      <td>62</td>\n",
       "      <td>JARDIM DA PENHA</td>\n",
       "      <td>0</td>\n",
       "      <td>1</td>\n",
       "      <td>0</td>\n",
       "      <td>0</td>\n",
       "      <td>0</td>\n",
       "      <td>0</td>\n",
       "      <td>0</td>\n",
       "      <td>0</td>\n",
       "      <td>0.0</td>\n",
       "    </tr>\n",
       "    <tr>\n",
       "      <th>1</th>\n",
       "      <td>1</td>\n",
       "      <td>55325</td>\n",
       "      <td>5642503</td>\n",
       "      <td>M</td>\n",
       "      <td>2016-04-29 16:08:27+00:00</td>\n",
       "      <td>2016-04-29 23:59:59+00:00</td>\n",
       "      <td>56</td>\n",
       "      <td>JARDIM DA PENHA</td>\n",
       "      <td>0</td>\n",
       "      <td>0</td>\n",
       "      <td>0</td>\n",
       "      <td>0</td>\n",
       "      <td>0</td>\n",
       "      <td>0</td>\n",
       "      <td>0</td>\n",
       "      <td>0</td>\n",
       "      <td>0.0</td>\n",
       "    </tr>\n",
       "    <tr>\n",
       "      <th>2</th>\n",
       "      <td>2</td>\n",
       "      <td>15722</td>\n",
       "      <td>5642549</td>\n",
       "      <td>F</td>\n",
       "      <td>2016-04-29 16:19:04+00:00</td>\n",
       "      <td>2016-04-29 23:59:59+00:00</td>\n",
       "      <td>62</td>\n",
       "      <td>MATA DA PRAIA</td>\n",
       "      <td>0</td>\n",
       "      <td>0</td>\n",
       "      <td>0</td>\n",
       "      <td>0</td>\n",
       "      <td>0</td>\n",
       "      <td>0</td>\n",
       "      <td>0</td>\n",
       "      <td>0</td>\n",
       "      <td>0.0</td>\n",
       "    </tr>\n",
       "    <tr>\n",
       "      <th>3</th>\n",
       "      <td>3</td>\n",
       "      <td>9018</td>\n",
       "      <td>5642828</td>\n",
       "      <td>F</td>\n",
       "      <td>2016-04-29 17:29:31+00:00</td>\n",
       "      <td>2016-04-29 23:59:59+00:00</td>\n",
       "      <td>8</td>\n",
       "      <td>PONTAL DE CAMBURI</td>\n",
       "      <td>0</td>\n",
       "      <td>0</td>\n",
       "      <td>0</td>\n",
       "      <td>0</td>\n",
       "      <td>0</td>\n",
       "      <td>0</td>\n",
       "      <td>0</td>\n",
       "      <td>0</td>\n",
       "      <td>0.0</td>\n",
       "    </tr>\n",
       "    <tr>\n",
       "      <th>4</th>\n",
       "      <td>4</td>\n",
       "      <td>23941</td>\n",
       "      <td>5642494</td>\n",
       "      <td>F</td>\n",
       "      <td>2016-04-29 16:07:23+00:00</td>\n",
       "      <td>2016-04-29 23:59:59+00:00</td>\n",
       "      <td>56</td>\n",
       "      <td>JARDIM DA PENHA</td>\n",
       "      <td>0</td>\n",
       "      <td>1</td>\n",
       "      <td>1</td>\n",
       "      <td>0</td>\n",
       "      <td>0</td>\n",
       "      <td>0</td>\n",
       "      <td>0</td>\n",
       "      <td>0</td>\n",
       "      <td>0.0</td>\n",
       "    </tr>\n",
       "    <tr>\n",
       "      <th>...</th>\n",
       "      <td>...</td>\n",
       "      <td>...</td>\n",
       "      <td>...</td>\n",
       "      <td>...</td>\n",
       "      <td>...</td>\n",
       "      <td>...</td>\n",
       "      <td>...</td>\n",
       "      <td>...</td>\n",
       "      <td>...</td>\n",
       "      <td>...</td>\n",
       "      <td>...</td>\n",
       "      <td>...</td>\n",
       "      <td>...</td>\n",
       "      <td>...</td>\n",
       "      <td>...</td>\n",
       "      <td>...</td>\n",
       "      <td>...</td>\n",
       "    </tr>\n",
       "    <tr>\n",
       "      <th>110522</th>\n",
       "      <td>110522</td>\n",
       "      <td>12800</td>\n",
       "      <td>5651768</td>\n",
       "      <td>F</td>\n",
       "      <td>2016-05-03 09:15:35+00:00</td>\n",
       "      <td>2016-06-07 23:59:59+00:00</td>\n",
       "      <td>56</td>\n",
       "      <td>MARIA ORTIZ</td>\n",
       "      <td>0</td>\n",
       "      <td>0</td>\n",
       "      <td>0</td>\n",
       "      <td>0</td>\n",
       "      <td>0</td>\n",
       "      <td>1</td>\n",
       "      <td>0</td>\n",
       "      <td>35</td>\n",
       "      <td>1.0</td>\n",
       "    </tr>\n",
       "    <tr>\n",
       "      <th>110523</th>\n",
       "      <td>110523</td>\n",
       "      <td>14603</td>\n",
       "      <td>5650093</td>\n",
       "      <td>F</td>\n",
       "      <td>2016-05-03 07:27:33+00:00</td>\n",
       "      <td>2016-06-07 23:59:59+00:00</td>\n",
       "      <td>51</td>\n",
       "      <td>MARIA ORTIZ</td>\n",
       "      <td>0</td>\n",
       "      <td>0</td>\n",
       "      <td>0</td>\n",
       "      <td>0</td>\n",
       "      <td>0</td>\n",
       "      <td>1</td>\n",
       "      <td>0</td>\n",
       "      <td>35</td>\n",
       "      <td>3.0</td>\n",
       "    </tr>\n",
       "    <tr>\n",
       "      <th>110524</th>\n",
       "      <td>110524</td>\n",
       "      <td>27287</td>\n",
       "      <td>5630692</td>\n",
       "      <td>F</td>\n",
       "      <td>2016-04-27 16:03:52+00:00</td>\n",
       "      <td>2016-06-07 23:59:59+00:00</td>\n",
       "      <td>21</td>\n",
       "      <td>MARIA ORTIZ</td>\n",
       "      <td>0</td>\n",
       "      <td>0</td>\n",
       "      <td>0</td>\n",
       "      <td>0</td>\n",
       "      <td>0</td>\n",
       "      <td>1</td>\n",
       "      <td>0</td>\n",
       "      <td>41</td>\n",
       "      <td>0.0</td>\n",
       "    </tr>\n",
       "    <tr>\n",
       "      <th>110525</th>\n",
       "      <td>110525</td>\n",
       "      <td>45960</td>\n",
       "      <td>5630323</td>\n",
       "      <td>F</td>\n",
       "      <td>2016-04-27 15:09:23+00:00</td>\n",
       "      <td>2016-06-07 23:59:59+00:00</td>\n",
       "      <td>38</td>\n",
       "      <td>MARIA ORTIZ</td>\n",
       "      <td>0</td>\n",
       "      <td>0</td>\n",
       "      <td>0</td>\n",
       "      <td>0</td>\n",
       "      <td>0</td>\n",
       "      <td>1</td>\n",
       "      <td>0</td>\n",
       "      <td>41</td>\n",
       "      <td>1.0</td>\n",
       "    </tr>\n",
       "    <tr>\n",
       "      <th>110526</th>\n",
       "      <td>110526</td>\n",
       "      <td>52483</td>\n",
       "      <td>5629448</td>\n",
       "      <td>F</td>\n",
       "      <td>2016-04-27 13:30:56+00:00</td>\n",
       "      <td>2016-06-07 23:59:59+00:00</td>\n",
       "      <td>54</td>\n",
       "      <td>MARIA ORTIZ</td>\n",
       "      <td>0</td>\n",
       "      <td>0</td>\n",
       "      <td>0</td>\n",
       "      <td>0</td>\n",
       "      <td>0</td>\n",
       "      <td>1</td>\n",
       "      <td>0</td>\n",
       "      <td>41</td>\n",
       "      <td>1.0</td>\n",
       "    </tr>\n",
       "  </tbody>\n",
       "</table>\n",
       "<p>110527 rows × 17 columns</p>\n",
       "</div>"
      ],
      "text/plain": [
       "        Unnamed: 0  PatientId  AppointmentID Gender  \\\n",
       "0                0      30845        5642903      F   \n",
       "1                1      55325        5642503      M   \n",
       "2                2      15722        5642549      F   \n",
       "3                3       9018        5642828      F   \n",
       "4                4      23941        5642494      F   \n",
       "...            ...        ...            ...    ...   \n",
       "110522      110522      12800        5651768      F   \n",
       "110523      110523      14603        5650093      F   \n",
       "110524      110524      27287        5630692      F   \n",
       "110525      110525      45960        5630323      F   \n",
       "110526      110526      52483        5629448      F   \n",
       "\n",
       "                     ScheduledDay             AppointmentDay  Age  \\\n",
       "0       2016-04-29 18:38:08+00:00  2016-04-29 23:59:59+00:00   62   \n",
       "1       2016-04-29 16:08:27+00:00  2016-04-29 23:59:59+00:00   56   \n",
       "2       2016-04-29 16:19:04+00:00  2016-04-29 23:59:59+00:00   62   \n",
       "3       2016-04-29 17:29:31+00:00  2016-04-29 23:59:59+00:00    8   \n",
       "4       2016-04-29 16:07:23+00:00  2016-04-29 23:59:59+00:00   56   \n",
       "...                           ...                        ...  ...   \n",
       "110522  2016-05-03 09:15:35+00:00  2016-06-07 23:59:59+00:00   56   \n",
       "110523  2016-05-03 07:27:33+00:00  2016-06-07 23:59:59+00:00   51   \n",
       "110524  2016-04-27 16:03:52+00:00  2016-06-07 23:59:59+00:00   21   \n",
       "110525  2016-04-27 15:09:23+00:00  2016-06-07 23:59:59+00:00   38   \n",
       "110526  2016-04-27 13:30:56+00:00  2016-06-07 23:59:59+00:00   54   \n",
       "\n",
       "            Neighbourhood  Scholarship  Hipertension  Diabetes  Alcoholism  \\\n",
       "0         JARDIM DA PENHA            0             1         0           0   \n",
       "1         JARDIM DA PENHA            0             0         0           0   \n",
       "2           MATA DA PRAIA            0             0         0           0   \n",
       "3       PONTAL DE CAMBURI            0             0         0           0   \n",
       "4         JARDIM DA PENHA            0             1         1           0   \n",
       "...                   ...          ...           ...       ...         ...   \n",
       "110522        MARIA ORTIZ            0             0         0           0   \n",
       "110523        MARIA ORTIZ            0             0         0           0   \n",
       "110524        MARIA ORTIZ            0             0         0           0   \n",
       "110525        MARIA ORTIZ            0             0         0           0   \n",
       "110526        MARIA ORTIZ            0             0         0           0   \n",
       "\n",
       "        Handcap  SMS_received NoShow  AwaitingTime  NbPrevious  \n",
       "0             0             0      0             0         0.0  \n",
       "1             0             0      0             0         0.0  \n",
       "2             0             0      0             0         0.0  \n",
       "3             0             0      0             0         0.0  \n",
       "4             0             0      0             0         0.0  \n",
       "...         ...           ...    ...           ...         ...  \n",
       "110522        0             1      0            35         1.0  \n",
       "110523        0             1      0            35         3.0  \n",
       "110524        0             1      0            41         0.0  \n",
       "110525        0             1      0            41         1.0  \n",
       "110526        0             1      0            41         1.0  \n",
       "\n",
       "[110527 rows x 17 columns]"
      ]
     },
     "execution_count": 154,
     "metadata": {},
     "output_type": "execute_result"
    }
   ],
   "source": [
    "data"
   ]
  },
  {
   "cell_type": "code",
   "execution_count": null,
   "id": "82cc1921",
   "metadata": {},
   "outputs": [],
   "source": []
  }
 ],
 "metadata": {
  "kernelspec": {
   "display_name": "Python 3",
   "language": "python",
   "name": "python3"
  },
  "language_info": {
   "codemirror_mode": {
    "name": "ipython",
    "version": 3
   },
   "file_extension": ".py",
   "mimetype": "text/x-python",
   "name": "python",
   "nbconvert_exporter": "python",
   "pygments_lexer": "ipython3",
   "version": "3.9.5"
  },
  "varInspector": {
   "cols": {
    "lenName": 16,
    "lenType": 16,
    "lenVar": 40
   },
   "kernels_config": {
    "python": {
     "delete_cmd_postfix": "",
     "delete_cmd_prefix": "del ",
     "library": "var_list.py",
     "varRefreshCmd": "print(var_dic_list())"
    },
    "r": {
     "delete_cmd_postfix": ") ",
     "delete_cmd_prefix": "rm(",
     "library": "var_list.r",
     "varRefreshCmd": "cat(var_dic_list()) "
    }
   },
   "types_to_exclude": [
    "module",
    "function",
    "builtin_function_or_method",
    "instance",
    "_Feature"
   ],
   "window_display": false
  }
 },
 "nbformat": 4,
 "nbformat_minor": 5
}
